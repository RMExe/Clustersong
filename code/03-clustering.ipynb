{
 "cells": [
  {
   "cell_type": "markdown",
   "metadata": {},
   "source": [
    "# Clustering"
   ]
  },
  {
   "cell_type": "markdown",
   "metadata": {},
   "source": [
    "## Abstract"
   ]
  },
  {
   "cell_type": "markdown",
   "metadata": {},
   "source": []
  },
  {
   "cell_type": "markdown",
   "metadata": {},
   "source": [
    "### Imports"
   ]
  },
  {
   "cell_type": "code",
   "execution_count": 45,
   "metadata": {},
   "outputs": [],
   "source": [
    "import pandas as pd\n",
    "import numpy as np\n",
    "import matplotlib.pyplot as plt\n",
    "import seaborn as sns\n",
    "import sys, time\n",
    "%matplotlib inline\n",
    "\n",
    "from sklearn.cluster import AgglomerativeClustering\n",
    "from sklearn.neighbors import kneighbors_graph\n",
    "from sklearn.preprocessing import StandardScaler\n",
    "from sklearn.metrics import silhouette_score"
   ]
  },
  {
   "cell_type": "markdown",
   "metadata": {},
   "source": [
    "### CSV Read-in"
   ]
  },
  {
   "cell_type": "code",
   "execution_count": 2,
   "metadata": {},
   "outputs": [
    {
     "data": {
      "text/html": [
       "<div>\n",
       "<style scoped>\n",
       "    .dataframe tbody tr th:only-of-type {\n",
       "        vertical-align: middle;\n",
       "    }\n",
       "\n",
       "    .dataframe tbody tr th {\n",
       "        vertical-align: top;\n",
       "    }\n",
       "\n",
       "    .dataframe thead th {\n",
       "        text-align: right;\n",
       "    }\n",
       "</style>\n",
       "<table border=\"1\" class=\"dataframe\">\n",
       "  <thead>\n",
       "    <tr style=\"text-align: right;\">\n",
       "      <th></th>\n",
       "      <th>artist_id</th>\n",
       "      <th>artist</th>\n",
       "      <th>album_id</th>\n",
       "      <th>album_names</th>\n",
       "      <th>track_id</th>\n",
       "      <th>track_number</th>\n",
       "      <th>track_title</th>\n",
       "      <th>track_duration</th>\n",
       "      <th>track_disc_number</th>\n",
       "      <th>danceability</th>\n",
       "      <th>...</th>\n",
       "      <th>speechiness</th>\n",
       "      <th>acousticness</th>\n",
       "      <th>instrumentalness</th>\n",
       "      <th>liveness</th>\n",
       "      <th>valence</th>\n",
       "      <th>tempo</th>\n",
       "      <th>time_signature</th>\n",
       "      <th>is_live</th>\n",
       "      <th>is_instrumental</th>\n",
       "      <th>key_tone</th>\n",
       "    </tr>\n",
       "  </thead>\n",
       "  <tbody>\n",
       "    <tr>\n",
       "      <th>0</th>\n",
       "      <td>1L0y9srZMyh9XUnYGv37IP</td>\n",
       "      <td>'Til Tuesday</td>\n",
       "      <td>67OxSfZotEq8cCa5SCeX5r</td>\n",
       "      <td>Everything's Different Now</td>\n",
       "      <td>5n9QFM4EiMeLGO0Mbwaqov</td>\n",
       "      <td>1.0</td>\n",
       "      <td>Everything's Different Now</td>\n",
       "      <td>236733.0</td>\n",
       "      <td>1.0</td>\n",
       "      <td>0.672</td>\n",
       "      <td>...</td>\n",
       "      <td>0.0393</td>\n",
       "      <td>0.0693</td>\n",
       "      <td>0.000033</td>\n",
       "      <td>0.1080</td>\n",
       "      <td>0.730</td>\n",
       "      <td>123.777</td>\n",
       "      <td>4.0</td>\n",
       "      <td>0</td>\n",
       "      <td>0</td>\n",
       "      <td>A#</td>\n",
       "    </tr>\n",
       "    <tr>\n",
       "      <th>1</th>\n",
       "      <td>1L0y9srZMyh9XUnYGv37IP</td>\n",
       "      <td>'Til Tuesday</td>\n",
       "      <td>67OxSfZotEq8cCa5SCeX5r</td>\n",
       "      <td>Everything's Different Now</td>\n",
       "      <td>0BKslA1XqG8HBUKBl4d7EN</td>\n",
       "      <td>2.0</td>\n",
       "      <td>Rip In Heaven</td>\n",
       "      <td>211200.0</td>\n",
       "      <td>1.0</td>\n",
       "      <td>0.612</td>\n",
       "      <td>...</td>\n",
       "      <td>0.0351</td>\n",
       "      <td>0.4280</td>\n",
       "      <td>0.000000</td>\n",
       "      <td>0.3470</td>\n",
       "      <td>0.815</td>\n",
       "      <td>131.809</td>\n",
       "      <td>4.0</td>\n",
       "      <td>0</td>\n",
       "      <td>0</td>\n",
       "      <td>E</td>\n",
       "    </tr>\n",
       "    <tr>\n",
       "      <th>2</th>\n",
       "      <td>1L0y9srZMyh9XUnYGv37IP</td>\n",
       "      <td>'Til Tuesday</td>\n",
       "      <td>67OxSfZotEq8cCa5SCeX5r</td>\n",
       "      <td>Everything's Different Now</td>\n",
       "      <td>5G7NBdQLHc7GkehNmLG3yJ</td>\n",
       "      <td>3.0</td>\n",
       "      <td>Why Must I</td>\n",
       "      <td>221000.0</td>\n",
       "      <td>1.0</td>\n",
       "      <td>0.586</td>\n",
       "      <td>...</td>\n",
       "      <td>0.0268</td>\n",
       "      <td>0.2290</td>\n",
       "      <td>0.000035</td>\n",
       "      <td>0.3230</td>\n",
       "      <td>0.838</td>\n",
       "      <td>96.486</td>\n",
       "      <td>4.0</td>\n",
       "      <td>0</td>\n",
       "      <td>0</td>\n",
       "      <td>C#</td>\n",
       "    </tr>\n",
       "    <tr>\n",
       "      <th>3</th>\n",
       "      <td>1L0y9srZMyh9XUnYGv37IP</td>\n",
       "      <td>'Til Tuesday</td>\n",
       "      <td>67OxSfZotEq8cCa5SCeX5r</td>\n",
       "      <td>Everything's Different Now</td>\n",
       "      <td>0J6nZDgEuwXtECq8Pukn1n</td>\n",
       "      <td>4.0</td>\n",
       "      <td>J For Jules</td>\n",
       "      <td>265493.0</td>\n",
       "      <td>1.0</td>\n",
       "      <td>0.475</td>\n",
       "      <td>...</td>\n",
       "      <td>0.0308</td>\n",
       "      <td>0.4620</td>\n",
       "      <td>0.000001</td>\n",
       "      <td>0.1190</td>\n",
       "      <td>0.262</td>\n",
       "      <td>151.651</td>\n",
       "      <td>4.0</td>\n",
       "      <td>0</td>\n",
       "      <td>0</td>\n",
       "      <td>A#</td>\n",
       "    </tr>\n",
       "    <tr>\n",
       "      <th>4</th>\n",
       "      <td>1L0y9srZMyh9XUnYGv37IP</td>\n",
       "      <td>'Til Tuesday</td>\n",
       "      <td>67OxSfZotEq8cCa5SCeX5r</td>\n",
       "      <td>Everything's Different Now</td>\n",
       "      <td>3Lm7hSTabr01oav0WdSsuD</td>\n",
       "      <td>5.0</td>\n",
       "      <td>(Believed You Were) Lucky</td>\n",
       "      <td>216973.0</td>\n",
       "      <td>1.0</td>\n",
       "      <td>0.612</td>\n",
       "      <td>...</td>\n",
       "      <td>0.0321</td>\n",
       "      <td>0.4480</td>\n",
       "      <td>0.000002</td>\n",
       "      <td>0.0727</td>\n",
       "      <td>0.495</td>\n",
       "      <td>124.315</td>\n",
       "      <td>4.0</td>\n",
       "      <td>0</td>\n",
       "      <td>0</td>\n",
       "      <td>F</td>\n",
       "    </tr>\n",
       "  </tbody>\n",
       "</table>\n",
       "<p>5 rows × 23 columns</p>\n",
       "</div>"
      ],
      "text/plain": [
       "                artist_id        artist                album_id  \\\n",
       "0  1L0y9srZMyh9XUnYGv37IP  'Til Tuesday  67OxSfZotEq8cCa5SCeX5r   \n",
       "1  1L0y9srZMyh9XUnYGv37IP  'Til Tuesday  67OxSfZotEq8cCa5SCeX5r   \n",
       "2  1L0y9srZMyh9XUnYGv37IP  'Til Tuesday  67OxSfZotEq8cCa5SCeX5r   \n",
       "3  1L0y9srZMyh9XUnYGv37IP  'Til Tuesday  67OxSfZotEq8cCa5SCeX5r   \n",
       "4  1L0y9srZMyh9XUnYGv37IP  'Til Tuesday  67OxSfZotEq8cCa5SCeX5r   \n",
       "\n",
       "                  album_names                track_id  track_number  \\\n",
       "0  Everything's Different Now  5n9QFM4EiMeLGO0Mbwaqov           1.0   \n",
       "1  Everything's Different Now  0BKslA1XqG8HBUKBl4d7EN           2.0   \n",
       "2  Everything's Different Now  5G7NBdQLHc7GkehNmLG3yJ           3.0   \n",
       "3  Everything's Different Now  0J6nZDgEuwXtECq8Pukn1n           4.0   \n",
       "4  Everything's Different Now  3Lm7hSTabr01oav0WdSsuD           5.0   \n",
       "\n",
       "                  track_title  track_duration  track_disc_number  \\\n",
       "0  Everything's Different Now        236733.0                1.0   \n",
       "1               Rip In Heaven        211200.0                1.0   \n",
       "2                  Why Must I        221000.0                1.0   \n",
       "3                 J For Jules        265493.0                1.0   \n",
       "4   (Believed You Were) Lucky        216973.0                1.0   \n",
       "\n",
       "   danceability    ...     speechiness  acousticness  instrumentalness  \\\n",
       "0         0.672    ...          0.0393        0.0693          0.000033   \n",
       "1         0.612    ...          0.0351        0.4280          0.000000   \n",
       "2         0.586    ...          0.0268        0.2290          0.000035   \n",
       "3         0.475    ...          0.0308        0.4620          0.000001   \n",
       "4         0.612    ...          0.0321        0.4480          0.000002   \n",
       "\n",
       "   liveness  valence    tempo  time_signature  is_live  is_instrumental  \\\n",
       "0    0.1080    0.730  123.777             4.0        0                0   \n",
       "1    0.3470    0.815  131.809             4.0        0                0   \n",
       "2    0.3230    0.838   96.486             4.0        0                0   \n",
       "3    0.1190    0.262  151.651             4.0        0                0   \n",
       "4    0.0727    0.495  124.315             4.0        0                0   \n",
       "\n",
       "   key_tone  \n",
       "0        A#  \n",
       "1         E  \n",
       "2        C#  \n",
       "3        A#  \n",
       "4         F  \n",
       "\n",
       "[5 rows x 23 columns]"
      ]
     },
     "execution_count": 2,
     "metadata": {},
     "output_type": "execute_result"
    }
   ],
   "source": [
    "df = pd.read_csv(\"../data/musicdata_cleaned.csv\")\n",
    "df.head()"
   ]
  },
  {
   "cell_type": "markdown",
   "metadata": {},
   "source": [
    "## Feature Selection"
   ]
  },
  {
   "cell_type": "markdown",
   "metadata": {},
   "source": [
    "### Dummying"
   ]
  },
  {
   "cell_type": "code",
   "execution_count": 3,
   "metadata": {},
   "outputs": [],
   "source": [
    "df = pd.get_dummies(df, columns=[\"key_tone\",\"time_signature\"],drop_first=True)"
   ]
  },
  {
   "cell_type": "code",
   "execution_count": 4,
   "metadata": {},
   "outputs": [
    {
     "data": {
      "text/plain": [
       "Index(['artist_id', 'artist', 'album_id', 'album_names', 'track_id',\n",
       "       'track_number', 'track_title', 'track_duration', 'track_disc_number',\n",
       "       'danceability', 'energy', 'key', 'is_major', 'speechiness',\n",
       "       'acousticness', 'instrumentalness', 'liveness', 'valence', 'tempo',\n",
       "       'is_live', 'is_instrumental', 'key_tone_A#', 'key_tone_B', 'key_tone_C',\n",
       "       'key_tone_C#', 'key_tone_D', 'key_tone_D#', 'key_tone_E', 'key_tone_F',\n",
       "       'key_tone_F#', 'key_tone_G', 'key_tone_G#', 'time_signature_1.0',\n",
       "       'time_signature_3.0', 'time_signature_4.0', 'time_signature_5.0'],\n",
       "      dtype='object')"
      ]
     },
     "execution_count": 4,
     "metadata": {},
     "output_type": "execute_result"
    }
   ],
   "source": [
    "df.columns"
   ]
  },
  {
   "cell_type": "code",
   "execution_count": 5,
   "metadata": {},
   "outputs": [],
   "source": [
    "df.drop(columns=[\"key\",\"liveness\",\"instrumentalness\"], inplace=True)"
   ]
  },
  {
   "cell_type": "code",
   "execution_count": 6,
   "metadata": {},
   "outputs": [],
   "source": [
    "features = [\"track_duration\", \"danceability\", \"energy\",\"is_major\",\n",
    "        \"speechiness\",\"acousticness\",\"valence\",\"tempo\",\"is_live\",\"is_instrumental\",\n",
    "       'key_tone_A#', 'key_tone_B', 'key_tone_C',\n",
    "       'key_tone_C#', 'key_tone_D', 'key_tone_D#', 'key_tone_E', 'key_tone_F',\n",
    "       'key_tone_F#', 'key_tone_G', 'key_tone_G#', 'time_signature_1.0',\n",
    "       'time_signature_3.0', 'time_signature_4.0', 'time_signature_5.0']"
   ]
  },
  {
   "cell_type": "code",
   "execution_count": 7,
   "metadata": {},
   "outputs": [],
   "source": [
    "X = df[features]"
   ]
  },
  {
   "cell_type": "markdown",
   "metadata": {},
   "source": [
    "### Scaling"
   ]
  },
  {
   "cell_type": "markdown",
   "metadata": {},
   "source": [
    "Scaling will be done before clustering so that a connectivity matrix can be generated ahead of time."
   ]
  },
  {
   "cell_type": "code",
   "execution_count": 8,
   "metadata": {},
   "outputs": [],
   "source": [
    "ss = StandardScaler()\n",
    "X_sc = ss.fit_transform(X)"
   ]
  },
  {
   "cell_type": "markdown",
   "metadata": {},
   "source": [
    "## Clustering"
   ]
  },
  {
   "cell_type": "markdown",
   "metadata": {},
   "source": [
    "### Connectivity Matrix"
   ]
  },
  {
   "cell_type": "code",
   "execution_count": 9,
   "metadata": {},
   "outputs": [],
   "source": [
    "connectivity = kneighbors_graph(X_sc,50,n_jobs=-1)"
   ]
  },
  {
   "cell_type": "markdown",
   "metadata": {},
   "source": [
    "### Gridsearch"
   ]
  },
  {
   "cell_type": "markdown",
   "metadata": {},
   "source": [
    "Before Gridsearching for a suitable number of clusters to cut at, I should determine a metric to evaluate on.  The two metrics for how good things got clustered that are commonly used are inertia and silhouette.  The former describes how closely related each element of a cluster is to other elements of that cluster, which is to say given any song of cluster $n$, another song of cluster $n$ should sound pretty similar, however some song from cluster $m$ could still sound similar.  Silhouette score tries to create more separation from each cluster, such that any song in cluster $n$ will not sound that much like any song from cluster $m$, but might not be as strongly connected to another song in cluster $n$."
   ]
  },
  {
   "cell_type": "code",
   "execution_count": 13,
   "metadata": {},
   "outputs": [],
   "source": [
    "agc = AgglomerativeClustering(n_clusters=5000 ,connectivity=connectivity, linkage=\"ward\")"
   ]
  },
  {
   "cell_type": "code",
   "execution_count": 14,
   "metadata": {},
   "outputs": [
    {
     "name": "stderr",
     "output_type": "stream",
     "text": [
      "C:\\Anaconda3\\envs\\dsi\\lib\\site-packages\\sklearn\\cluster\\hierarchical.py:193: UserWarning: the number of connected components of the connectivity matrix is 2 > 1. Completing it to avoid stopping the tree early.\n",
      "  affinity='euclidean')\n"
     ]
    },
    {
     "data": {
      "text/plain": [
       "AgglomerativeClustering(affinity='euclidean', compute_full_tree='auto',\n",
       "            connectivity=<98337x98337 sparse matrix of type '<class 'numpy.float64'>'\n",
       "\twith 4916850 stored elements in Compressed Sparse Row format>,\n",
       "            linkage='ward', memory=None, n_clusters=5000,\n",
       "            pooling_func=<function mean at 0x00000238A526D268>)"
      ]
     },
     "execution_count": 14,
     "metadata": {},
     "output_type": "execute_result"
    }
   ],
   "source": [
    "agc.fit(X_sc)"
   ]
  },
  {
   "cell_type": "code",
   "execution_count": 18,
   "metadata": {},
   "outputs": [],
   "source": [
    "df[\"label\"] = agc.labels_"
   ]
  },
  {
   "cell_type": "code",
   "execution_count": 30,
   "metadata": {},
   "outputs": [
    {
     "data": {
      "text/plain": [
       "61"
      ]
     },
     "execution_count": 30,
     "metadata": {},
     "output_type": "execute_result"
    }
   ],
   "source": [
    "sum((df.label.value_counts() == 1).astype(int))"
   ]
  },
  {
   "cell_type": "code",
   "execution_count": 33,
   "metadata": {},
   "outputs": [
    {
     "data": {
      "text/plain": [
       "<matplotlib.axes._subplots.AxesSubplot at 0x23898a73fd0>"
      ]
     },
     "execution_count": 33,
     "metadata": {},
     "output_type": "execute_result"
    },
    {
     "data": {
      "image/png": "[encoded data removed]",
      "text/plain": [
       "<Figure size 432x288 with 1 Axes>"
      ]
     },
     "metadata": {
      "needs_background": "light"
     },
     "output_type": "display_data"
    }
   ],
   "source": [
    "sns.countplot(df.label)"
   ]
  },
  {
   "cell_type": "code",
   "execution_count": 40,
   "metadata": {},
   "outputs": [],
   "source": [
    "agc_2 = AgglomerativeClustering(n_clusters=16 ,connectivity=connectivity, linkage=\"ward\")"
   ]
  },
  {
   "cell_type": "code",
   "execution_count": 41,
   "metadata": {},
   "outputs": [
    {
     "name": "stderr",
     "output_type": "stream",
     "text": [
      "C:\\Anaconda3\\envs\\dsi\\lib\\site-packages\\sklearn\\cluster\\hierarchical.py:193: UserWarning: the number of connected components of the connectivity matrix is 2 > 1. Completing it to avoid stopping the tree early.\n",
      "  affinity='euclidean')\n"
     ]
    },
    {
     "data": {
      "text/plain": [
       "AgglomerativeClustering(affinity='euclidean', compute_full_tree='auto',\n",
       "            connectivity=<98337x98337 sparse matrix of type '<class 'numpy.float64'>'\n",
       "\twith 4916850 stored elements in Compressed Sparse Row format>,\n",
       "            linkage='ward', memory=None, n_clusters=16,\n",
       "            pooling_func=<function mean at 0x00000238A526D268>)"
      ]
     },
     "execution_count": 41,
     "metadata": {},
     "output_type": "execute_result"
    }
   ],
   "source": [
    "agc_2.fit(X_sc)"
   ]
  },
  {
   "cell_type": "code",
   "execution_count": 42,
   "metadata": {},
   "outputs": [],
   "source": [
    "df[\"label_new\"] = agc_2.labels_"
   ]
  },
  {
   "cell_type": "code",
   "execution_count": 43,
   "metadata": {},
   "outputs": [
    {
     "data": {
      "text/plain": [
       "1     0.148754\n",
       "6     0.103471\n",
       "2     0.092336\n",
       "3     0.086722\n",
       "0     0.078567\n",
       "12    0.073736\n",
       "7     0.065713\n",
       "13    0.064045\n",
       "10    0.057801\n",
       "14    0.049513\n",
       "4     0.047266\n",
       "8     0.045131\n",
       "9     0.040788\n",
       "11    0.024406\n",
       "5     0.013647\n",
       "15    0.008105\n",
       "Name: label_new, dtype: float64"
      ]
     },
     "execution_count": 43,
     "metadata": {},
     "output_type": "execute_result"
    }
   ],
   "source": [
    "df.label_new.value_counts(normalize=True)"
   ]
  },
  {
   "cell_type": "code",
   "execution_count": 44,
   "metadata": {},
   "outputs": [
    {
     "data": {
      "text/plain": [
       "<matplotlib.axes._subplots.AxesSubplot at 0x238d97079e8>"
      ]
     },
     "execution_count": 44,
     "metadata": {},
     "output_type": "execute_result"
    },
    {
     "data": {
      "image/png": "[encoded data removed]",
      "text/plain": [
       "<Figure size 432x288 with 1 Axes>"
      ]
     },
     "metadata": {
      "needs_background": "light"
     },
     "output_type": "display_data"
    }
   ],
   "source": [
    "sns.countplot(df.label_new)"
   ]
  },
  {
   "cell_type": "markdown",
   "metadata": {},
   "source": []
  },
  {
   "cell_type": "code",
   "execution_count": null,
   "metadata": {},
   "outputs": [],
   "source": [
    "clusters_to_try = [i for i in range(15,45)]\n",
    "fitted_clusterers = []\n",
    "cluster_labels = []\n",
    "silhouette_scores = []\n",
    "\n",
    "for n_clusters in clusters_to_try:\n",
    "    agc_i = AgglomerativeClustering(n_clusters=n_clusters ,connectivity=connectivity, linkage=\"ward\")\n",
    "    agc_i.fit(X_sc)\n",
    "    cluster_labels.append(agc_i.labels_)\n",
    "    fitted_clusterers.append(agc_i.labels_)\n",
    "    silhouette_scores.append(silhouette_score(X_sc,\n",
    "                                              agc_i.labels_,\n",
    "                                              sample_size=30000, #Necessary to avoid a Memory Error!  Adjust this line if still too much.\n",
    "                                              random_state=20191505))"
   ]
  },
  {
   "cell_type": "markdown",
   "metadata": {},
   "source": [
    "### Evaluating"
   ]
  },
  {
   "cell_type": "code",
   "execution_count": 57,
   "metadata": {},
   "outputs": [
    {
     "data": {
      "text/html": [
       "<div>\n",
       "<style scoped>\n",
       "    .dataframe tbody tr th:only-of-type {\n",
       "        vertical-align: middle;\n",
       "    }\n",
       "\n",
       "    .dataframe tbody tr th {\n",
       "        vertical-align: top;\n",
       "    }\n",
       "\n",
       "    .dataframe thead th {\n",
       "        text-align: right;\n",
       "    }\n",
       "</style>\n",
       "<table border=\"1\" class=\"dataframe\">\n",
       "  <thead>\n",
       "    <tr style=\"text-align: right;\">\n",
       "      <th></th>\n",
       "      <th>n_clusters</th>\n",
       "      <th>silhouette_score</th>\n",
       "    </tr>\n",
       "  </thead>\n",
       "  <tbody>\n",
       "    <tr>\n",
       "      <th>0</th>\n",
       "      <td>15</td>\n",
       "      <td>0.254349</td>\n",
       "    </tr>\n",
       "    <tr>\n",
       "      <th>1</th>\n",
       "      <td>16</td>\n",
       "      <td>0.256650</td>\n",
       "    </tr>\n",
       "    <tr>\n",
       "      <th>2</th>\n",
       "      <td>17</td>\n",
       "      <td>0.261489</td>\n",
       "    </tr>\n",
       "    <tr>\n",
       "      <th>3</th>\n",
       "      <td>18</td>\n",
       "      <td>0.251383</td>\n",
       "    </tr>\n",
       "    <tr>\n",
       "      <th>4</th>\n",
       "      <td>19</td>\n",
       "      <td>0.240935</td>\n",
       "    </tr>\n",
       "  </tbody>\n",
       "</table>\n",
       "</div>"
      ],
      "text/plain": [
       "   n_clusters  silhouette_score\n",
       "0          15          0.254349\n",
       "1          16          0.256650\n",
       "2          17          0.261489\n",
       "3          18          0.251383\n",
       "4          19          0.240935"
      ]
     },
     "execution_count": 57,
     "metadata": {},
     "output_type": "execute_result"
    }
   ],
   "source": [
    "cluster_scores = pd.DataFrame({\"n_clusters\" : clusters_to_try, \"silhouette_score\" : silhouette_scores})\n",
    "cluster_scores.head()"
   ]
  },
  {
   "cell_type": "code",
   "execution_count": 58,
   "metadata": {},
   "outputs": [
    {
     "data": {
      "text/plain": [
       "0.2614894562850657"
      ]
     },
     "execution_count": 58,
     "metadata": {},
     "output_type": "execute_result"
    }
   ],
   "source": [
    "silhouette_scores[2]"
   ]
  },
  {
   "cell_type": "code",
   "execution_count": 60,
   "metadata": {},
   "outputs": [],
   "source": [
    "df.drop(columns=[\"label\",\"label_new\"], inplace=True)"
   ]
  },
  {
   "cell_type": "code",
   "execution_count": 62,
   "metadata": {},
   "outputs": [],
   "source": [
    "df[\"label\"] = cluster_labels[2]"
   ]
  },
  {
   "cell_type": "code",
   "execution_count": 63,
   "metadata": {},
   "outputs": [
    {
     "data": {
      "text/html": [
       "<div>\n",
       "<style scoped>\n",
       "    .dataframe tbody tr th:only-of-type {\n",
       "        vertical-align: middle;\n",
       "    }\n",
       "\n",
       "    .dataframe tbody tr th {\n",
       "        vertical-align: top;\n",
       "    }\n",
       "\n",
       "    .dataframe thead th {\n",
       "        text-align: right;\n",
       "    }\n",
       "</style>\n",
       "<table border=\"1\" class=\"dataframe\">\n",
       "  <thead>\n",
       "    <tr style=\"text-align: right;\">\n",
       "      <th></th>\n",
       "      <th>artist_id</th>\n",
       "      <th>artist</th>\n",
       "      <th>album_id</th>\n",
       "      <th>album_names</th>\n",
       "      <th>track_id</th>\n",
       "      <th>track_number</th>\n",
       "      <th>track_title</th>\n",
       "      <th>track_duration</th>\n",
       "      <th>track_disc_number</th>\n",
       "      <th>danceability</th>\n",
       "      <th>...</th>\n",
       "      <th>key_tone_E</th>\n",
       "      <th>key_tone_F</th>\n",
       "      <th>key_tone_F#</th>\n",
       "      <th>key_tone_G</th>\n",
       "      <th>key_tone_G#</th>\n",
       "      <th>time_signature_1.0</th>\n",
       "      <th>time_signature_3.0</th>\n",
       "      <th>time_signature_4.0</th>\n",
       "      <th>time_signature_5.0</th>\n",
       "      <th>label</th>\n",
       "    </tr>\n",
       "  </thead>\n",
       "  <tbody>\n",
       "    <tr>\n",
       "      <th>0</th>\n",
       "      <td>1L0y9srZMyh9XUnYGv37IP</td>\n",
       "      <td>'Til Tuesday</td>\n",
       "      <td>67OxSfZotEq8cCa5SCeX5r</td>\n",
       "      <td>Everything's Different Now</td>\n",
       "      <td>5n9QFM4EiMeLGO0Mbwaqov</td>\n",
       "      <td>1.0</td>\n",
       "      <td>Everything's Different Now</td>\n",
       "      <td>236733.0</td>\n",
       "      <td>1.0</td>\n",
       "      <td>0.672</td>\n",
       "      <td>...</td>\n",
       "      <td>0</td>\n",
       "      <td>0</td>\n",
       "      <td>0</td>\n",
       "      <td>0</td>\n",
       "      <td>0</td>\n",
       "      <td>0</td>\n",
       "      <td>0</td>\n",
       "      <td>1</td>\n",
       "      <td>0</td>\n",
       "      <td>4</td>\n",
       "    </tr>\n",
       "    <tr>\n",
       "      <th>1</th>\n",
       "      <td>1L0y9srZMyh9XUnYGv37IP</td>\n",
       "      <td>'Til Tuesday</td>\n",
       "      <td>67OxSfZotEq8cCa5SCeX5r</td>\n",
       "      <td>Everything's Different Now</td>\n",
       "      <td>0BKslA1XqG8HBUKBl4d7EN</td>\n",
       "      <td>2.0</td>\n",
       "      <td>Rip In Heaven</td>\n",
       "      <td>211200.0</td>\n",
       "      <td>1.0</td>\n",
       "      <td>0.612</td>\n",
       "      <td>...</td>\n",
       "      <td>1</td>\n",
       "      <td>0</td>\n",
       "      <td>0</td>\n",
       "      <td>0</td>\n",
       "      <td>0</td>\n",
       "      <td>0</td>\n",
       "      <td>0</td>\n",
       "      <td>1</td>\n",
       "      <td>0</td>\n",
       "      <td>12</td>\n",
       "    </tr>\n",
       "    <tr>\n",
       "      <th>2</th>\n",
       "      <td>1L0y9srZMyh9XUnYGv37IP</td>\n",
       "      <td>'Til Tuesday</td>\n",
       "      <td>67OxSfZotEq8cCa5SCeX5r</td>\n",
       "      <td>Everything's Different Now</td>\n",
       "      <td>5G7NBdQLHc7GkehNmLG3yJ</td>\n",
       "      <td>3.0</td>\n",
       "      <td>Why Must I</td>\n",
       "      <td>221000.0</td>\n",
       "      <td>1.0</td>\n",
       "      <td>0.586</td>\n",
       "      <td>...</td>\n",
       "      <td>0</td>\n",
       "      <td>0</td>\n",
       "      <td>0</td>\n",
       "      <td>0</td>\n",
       "      <td>0</td>\n",
       "      <td>0</td>\n",
       "      <td>0</td>\n",
       "      <td>1</td>\n",
       "      <td>0</td>\n",
       "      <td>13</td>\n",
       "    </tr>\n",
       "    <tr>\n",
       "      <th>3</th>\n",
       "      <td>1L0y9srZMyh9XUnYGv37IP</td>\n",
       "      <td>'Til Tuesday</td>\n",
       "      <td>67OxSfZotEq8cCa5SCeX5r</td>\n",
       "      <td>Everything's Different Now</td>\n",
       "      <td>0J6nZDgEuwXtECq8Pukn1n</td>\n",
       "      <td>4.0</td>\n",
       "      <td>J For Jules</td>\n",
       "      <td>265493.0</td>\n",
       "      <td>1.0</td>\n",
       "      <td>0.475</td>\n",
       "      <td>...</td>\n",
       "      <td>0</td>\n",
       "      <td>0</td>\n",
       "      <td>0</td>\n",
       "      <td>0</td>\n",
       "      <td>0</td>\n",
       "      <td>0</td>\n",
       "      <td>0</td>\n",
       "      <td>1</td>\n",
       "      <td>0</td>\n",
       "      <td>4</td>\n",
       "    </tr>\n",
       "    <tr>\n",
       "      <th>4</th>\n",
       "      <td>1L0y9srZMyh9XUnYGv37IP</td>\n",
       "      <td>'Til Tuesday</td>\n",
       "      <td>67OxSfZotEq8cCa5SCeX5r</td>\n",
       "      <td>Everything's Different Now</td>\n",
       "      <td>3Lm7hSTabr01oav0WdSsuD</td>\n",
       "      <td>5.0</td>\n",
       "      <td>(Believed You Were) Lucky</td>\n",
       "      <td>216973.0</td>\n",
       "      <td>1.0</td>\n",
       "      <td>0.612</td>\n",
       "      <td>...</td>\n",
       "      <td>0</td>\n",
       "      <td>1</td>\n",
       "      <td>0</td>\n",
       "      <td>0</td>\n",
       "      <td>0</td>\n",
       "      <td>0</td>\n",
       "      <td>0</td>\n",
       "      <td>1</td>\n",
       "      <td>0</td>\n",
       "      <td>10</td>\n",
       "    </tr>\n",
       "  </tbody>\n",
       "</table>\n",
       "<p>5 rows × 34 columns</p>\n",
       "</div>"
      ],
      "text/plain": [
       "                artist_id        artist                album_id  \\\n",
       "0  1L0y9srZMyh9XUnYGv37IP  'Til Tuesday  67OxSfZotEq8cCa5SCeX5r   \n",
       "1  1L0y9srZMyh9XUnYGv37IP  'Til Tuesday  67OxSfZotEq8cCa5SCeX5r   \n",
       "2  1L0y9srZMyh9XUnYGv37IP  'Til Tuesday  67OxSfZotEq8cCa5SCeX5r   \n",
       "3  1L0y9srZMyh9XUnYGv37IP  'Til Tuesday  67OxSfZotEq8cCa5SCeX5r   \n",
       "4  1L0y9srZMyh9XUnYGv37IP  'Til Tuesday  67OxSfZotEq8cCa5SCeX5r   \n",
       "\n",
       "                  album_names                track_id  track_number  \\\n",
       "0  Everything's Different Now  5n9QFM4EiMeLGO0Mbwaqov           1.0   \n",
       "1  Everything's Different Now  0BKslA1XqG8HBUKBl4d7EN           2.0   \n",
       "2  Everything's Different Now  5G7NBdQLHc7GkehNmLG3yJ           3.0   \n",
       "3  Everything's Different Now  0J6nZDgEuwXtECq8Pukn1n           4.0   \n",
       "4  Everything's Different Now  3Lm7hSTabr01oav0WdSsuD           5.0   \n",
       "\n",
       "                  track_title  track_duration  track_disc_number  \\\n",
       "0  Everything's Different Now        236733.0                1.0   \n",
       "1               Rip In Heaven        211200.0                1.0   \n",
       "2                  Why Must I        221000.0                1.0   \n",
       "3                 J For Jules        265493.0                1.0   \n",
       "4   (Believed You Were) Lucky        216973.0                1.0   \n",
       "\n",
       "   danceability  ...    key_tone_E  key_tone_F  key_tone_F#  key_tone_G  \\\n",
       "0         0.672  ...             0           0            0           0   \n",
       "1         0.612  ...             1           0            0           0   \n",
       "2         0.586  ...             0           0            0           0   \n",
       "3         0.475  ...             0           0            0           0   \n",
       "4         0.612  ...             0           1            0           0   \n",
       "\n",
       "   key_tone_G#  time_signature_1.0  time_signature_3.0  time_signature_4.0  \\\n",
       "0            0                   0                   0                   1   \n",
       "1            0                   0                   0                   1   \n",
       "2            0                   0                   0                   1   \n",
       "3            0                   0                   0                   1   \n",
       "4            0                   0                   0                   1   \n",
       "\n",
       "   time_signature_5.0  label  \n",
       "0                   0      4  \n",
       "1                   0     12  \n",
       "2                   0     13  \n",
       "3                   0      4  \n",
       "4                   0     10  \n",
       "\n",
       "[5 rows x 34 columns]"
      ]
     },
     "execution_count": 63,
     "metadata": {},
     "output_type": "execute_result"
    }
   ],
   "source": [
    "df.head()"
   ]
  },
  {
   "cell_type": "markdown",
   "metadata": {},
   "source": [
    "## Output"
   ]
  },
  {
   "cell_type": "code",
   "execution_count": 64,
   "metadata": {},
   "outputs": [],
   "source": [
    "df.to_csv(\"../data/labeled.csv\", index=False)"
   ]
  }
 ],
 "metadata": {
  "kernelspec": {
   "display_name": "Python 3",
   "language": "python",
   "name": "python3"
  },
  "language_info": {
   "codemirror_mode": {
    "name": "ipython",
    "version": 3
   },
   "file_extension": ".py",
   "mimetype": "text/x-python",
   "name": "python",
   "nbconvert_exporter": "python",
   "pygments_lexer": "ipython3",
   "version": "3.6.5"
  }
 },
 "nbformat": 4,
 "nbformat_minor": 2
}
