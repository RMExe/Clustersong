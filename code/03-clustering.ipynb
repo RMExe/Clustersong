{
 "cells": [
  {
   "cell_type": "markdown",
   "metadata": {},
   "source": [
    "# Clustering"
   ]
  },
  {
   "cell_type": "markdown",
   "metadata": {},
   "source": [
    "## Abstract"
   ]
  },
  {
   "cell_type": "markdown",
   "metadata": {},
   "source": []
  },
  {
   "cell_type": "markdown",
   "metadata": {},
   "source": [
    "### Imports"
   ]
  },
  {
   "cell_type": "code",
   "execution_count": 34,
   "metadata": {},
   "outputs": [],
   "source": [
    "import pandas as pd\n",
    "import numpy as np\n",
    "import matplotlib.pyplot as plt\n",
    "import seaborn as sns\n",
    "%matplotlib inline\n",
    "\n",
    "from sklearn.cluster import AgglomerativeClustering\n",
    "from sklearn.preprocessing import StandardScaler, PowerTransformer\n",
    "from sklearn.pipeline import Pipeline"
   ]
  },
  {
   "cell_type": "markdown",
   "metadata": {},
   "source": [
    "### CSV Read-in"
   ]
  },
  {
   "cell_type": "code",
   "execution_count": 4,
   "metadata": {},
   "outputs": [
    {
     "data": {
      "text/html": [
       "<div>\n",
       "<style scoped>\n",
       "    .dataframe tbody tr th:only-of-type {\n",
       "        vertical-align: middle;\n",
       "    }\n",
       "\n",
       "    .dataframe tbody tr th {\n",
       "        vertical-align: top;\n",
       "    }\n",
       "\n",
       "    .dataframe thead th {\n",
       "        text-align: right;\n",
       "    }\n",
       "</style>\n",
       "<table border=\"1\" class=\"dataframe\">\n",
       "  <thead>\n",
       "    <tr style=\"text-align: right;\">\n",
       "      <th></th>\n",
       "      <th>artist_id</th>\n",
       "      <th>artist</th>\n",
       "      <th>album_id</th>\n",
       "      <th>album_names</th>\n",
       "      <th>track_id</th>\n",
       "      <th>track_number</th>\n",
       "      <th>track_title</th>\n",
       "      <th>track_duration</th>\n",
       "      <th>track_disc_number</th>\n",
       "      <th>danceability</th>\n",
       "      <th>...</th>\n",
       "      <th>speechiness</th>\n",
       "      <th>acousticness</th>\n",
       "      <th>instrumentalness</th>\n",
       "      <th>liveness</th>\n",
       "      <th>valence</th>\n",
       "      <th>tempo</th>\n",
       "      <th>time_signature</th>\n",
       "      <th>is_live</th>\n",
       "      <th>is_instrumental</th>\n",
       "      <th>key_tone</th>\n",
       "    </tr>\n",
       "  </thead>\n",
       "  <tbody>\n",
       "    <tr>\n",
       "      <th>0</th>\n",
       "      <td>1L0y9srZMyh9XUnYGv37IP</td>\n",
       "      <td>'Til Tuesday</td>\n",
       "      <td>67OxSfZotEq8cCa5SCeX5r</td>\n",
       "      <td>Everything's Different Now</td>\n",
       "      <td>5n9QFM4EiMeLGO0Mbwaqov</td>\n",
       "      <td>1.0</td>\n",
       "      <td>Everything's Different Now</td>\n",
       "      <td>236733.0</td>\n",
       "      <td>1.0</td>\n",
       "      <td>0.672</td>\n",
       "      <td>...</td>\n",
       "      <td>0.0393</td>\n",
       "      <td>0.0693</td>\n",
       "      <td>0.000033</td>\n",
       "      <td>0.1080</td>\n",
       "      <td>0.730</td>\n",
       "      <td>123.777</td>\n",
       "      <td>4.0</td>\n",
       "      <td>0</td>\n",
       "      <td>0</td>\n",
       "      <td>A#</td>\n",
       "    </tr>\n",
       "    <tr>\n",
       "      <th>1</th>\n",
       "      <td>1L0y9srZMyh9XUnYGv37IP</td>\n",
       "      <td>'Til Tuesday</td>\n",
       "      <td>67OxSfZotEq8cCa5SCeX5r</td>\n",
       "      <td>Everything's Different Now</td>\n",
       "      <td>0BKslA1XqG8HBUKBl4d7EN</td>\n",
       "      <td>2.0</td>\n",
       "      <td>Rip In Heaven</td>\n",
       "      <td>211200.0</td>\n",
       "      <td>1.0</td>\n",
       "      <td>0.612</td>\n",
       "      <td>...</td>\n",
       "      <td>0.0351</td>\n",
       "      <td>0.4280</td>\n",
       "      <td>0.000000</td>\n",
       "      <td>0.3470</td>\n",
       "      <td>0.815</td>\n",
       "      <td>131.809</td>\n",
       "      <td>4.0</td>\n",
       "      <td>0</td>\n",
       "      <td>0</td>\n",
       "      <td>E</td>\n",
       "    </tr>\n",
       "    <tr>\n",
       "      <th>2</th>\n",
       "      <td>1L0y9srZMyh9XUnYGv37IP</td>\n",
       "      <td>'Til Tuesday</td>\n",
       "      <td>67OxSfZotEq8cCa5SCeX5r</td>\n",
       "      <td>Everything's Different Now</td>\n",
       "      <td>5G7NBdQLHc7GkehNmLG3yJ</td>\n",
       "      <td>3.0</td>\n",
       "      <td>Why Must I</td>\n",
       "      <td>221000.0</td>\n",
       "      <td>1.0</td>\n",
       "      <td>0.586</td>\n",
       "      <td>...</td>\n",
       "      <td>0.0268</td>\n",
       "      <td>0.2290</td>\n",
       "      <td>0.000035</td>\n",
       "      <td>0.3230</td>\n",
       "      <td>0.838</td>\n",
       "      <td>96.486</td>\n",
       "      <td>4.0</td>\n",
       "      <td>0</td>\n",
       "      <td>0</td>\n",
       "      <td>C#</td>\n",
       "    </tr>\n",
       "    <tr>\n",
       "      <th>3</th>\n",
       "      <td>1L0y9srZMyh9XUnYGv37IP</td>\n",
       "      <td>'Til Tuesday</td>\n",
       "      <td>67OxSfZotEq8cCa5SCeX5r</td>\n",
       "      <td>Everything's Different Now</td>\n",
       "      <td>0J6nZDgEuwXtECq8Pukn1n</td>\n",
       "      <td>4.0</td>\n",
       "      <td>J For Jules</td>\n",
       "      <td>265493.0</td>\n",
       "      <td>1.0</td>\n",
       "      <td>0.475</td>\n",
       "      <td>...</td>\n",
       "      <td>0.0308</td>\n",
       "      <td>0.4620</td>\n",
       "      <td>0.000001</td>\n",
       "      <td>0.1190</td>\n",
       "      <td>0.262</td>\n",
       "      <td>151.651</td>\n",
       "      <td>4.0</td>\n",
       "      <td>0</td>\n",
       "      <td>0</td>\n",
       "      <td>A#</td>\n",
       "    </tr>\n",
       "    <tr>\n",
       "      <th>4</th>\n",
       "      <td>1L0y9srZMyh9XUnYGv37IP</td>\n",
       "      <td>'Til Tuesday</td>\n",
       "      <td>67OxSfZotEq8cCa5SCeX5r</td>\n",
       "      <td>Everything's Different Now</td>\n",
       "      <td>3Lm7hSTabr01oav0WdSsuD</td>\n",
       "      <td>5.0</td>\n",
       "      <td>(Believed You Were) Lucky</td>\n",
       "      <td>216973.0</td>\n",
       "      <td>1.0</td>\n",
       "      <td>0.612</td>\n",
       "      <td>...</td>\n",
       "      <td>0.0321</td>\n",
       "      <td>0.4480</td>\n",
       "      <td>0.000002</td>\n",
       "      <td>0.0727</td>\n",
       "      <td>0.495</td>\n",
       "      <td>124.315</td>\n",
       "      <td>4.0</td>\n",
       "      <td>0</td>\n",
       "      <td>0</td>\n",
       "      <td>F</td>\n",
       "    </tr>\n",
       "  </tbody>\n",
       "</table>\n",
       "<p>5 rows × 23 columns</p>\n",
       "</div>"
      ],
      "text/plain": [
       "                artist_id        artist                album_id  \\\n",
       "0  1L0y9srZMyh9XUnYGv37IP  'Til Tuesday  67OxSfZotEq8cCa5SCeX5r   \n",
       "1  1L0y9srZMyh9XUnYGv37IP  'Til Tuesday  67OxSfZotEq8cCa5SCeX5r   \n",
       "2  1L0y9srZMyh9XUnYGv37IP  'Til Tuesday  67OxSfZotEq8cCa5SCeX5r   \n",
       "3  1L0y9srZMyh9XUnYGv37IP  'Til Tuesday  67OxSfZotEq8cCa5SCeX5r   \n",
       "4  1L0y9srZMyh9XUnYGv37IP  'Til Tuesday  67OxSfZotEq8cCa5SCeX5r   \n",
       "\n",
       "                  album_names                track_id  track_number  \\\n",
       "0  Everything's Different Now  5n9QFM4EiMeLGO0Mbwaqov           1.0   \n",
       "1  Everything's Different Now  0BKslA1XqG8HBUKBl4d7EN           2.0   \n",
       "2  Everything's Different Now  5G7NBdQLHc7GkehNmLG3yJ           3.0   \n",
       "3  Everything's Different Now  0J6nZDgEuwXtECq8Pukn1n           4.0   \n",
       "4  Everything's Different Now  3Lm7hSTabr01oav0WdSsuD           5.0   \n",
       "\n",
       "                  track_title  track_duration  track_disc_number  \\\n",
       "0  Everything's Different Now        236733.0                1.0   \n",
       "1               Rip In Heaven        211200.0                1.0   \n",
       "2                  Why Must I        221000.0                1.0   \n",
       "3                 J For Jules        265493.0                1.0   \n",
       "4   (Believed You Were) Lucky        216973.0                1.0   \n",
       "\n",
       "   danceability  ...  speechiness  acousticness  instrumentalness  liveness  \\\n",
       "0         0.672  ...       0.0393        0.0693          0.000033    0.1080   \n",
       "1         0.612  ...       0.0351        0.4280          0.000000    0.3470   \n",
       "2         0.586  ...       0.0268        0.2290          0.000035    0.3230   \n",
       "3         0.475  ...       0.0308        0.4620          0.000001    0.1190   \n",
       "4         0.612  ...       0.0321        0.4480          0.000002    0.0727   \n",
       "\n",
       "   valence    tempo  time_signature  is_live  is_instrumental  key_tone  \n",
       "0    0.730  123.777             4.0        0                0        A#  \n",
       "1    0.815  131.809             4.0        0                0         E  \n",
       "2    0.838   96.486             4.0        0                0        C#  \n",
       "3    0.262  151.651             4.0        0                0        A#  \n",
       "4    0.495  124.315             4.0        0                0         F  \n",
       "\n",
       "[5 rows x 23 columns]"
      ]
     },
     "execution_count": 4,
     "metadata": {},
     "output_type": "execute_result"
    }
   ],
   "source": [
    "df = pd.read_csv(\"../data/musicdata_cleaned.csv\")\n",
    "df.head()"
   ]
  },
  {
   "cell_type": "markdown",
   "metadata": {},
   "source": [
    "## Feature Selection"
   ]
  },
  {
   "cell_type": "markdown",
   "metadata": {},
   "source": [
    "### Dummying"
   ]
  },
  {
   "cell_type": "code",
   "execution_count": 7,
   "metadata": {},
   "outputs": [],
   "source": [
    "df = pd.get_dummies(df, columns=[\"key_tone\",\"time_signature\"],drop_first=True)"
   ]
  },
  {
   "cell_type": "code",
   "execution_count": 8,
   "metadata": {},
   "outputs": [
    {
     "data": {
      "text/plain": [
       "Index(['artist_id', 'artist', 'album_id', 'album_names', 'track_id',\n",
       "       'track_number', 'track_title', 'track_duration', 'track_disc_number',\n",
       "       'danceability', 'energy', 'key', 'is_major', 'speechiness',\n",
       "       'acousticness', 'instrumentalness', 'liveness', 'valence', 'tempo',\n",
       "       'is_live', 'is_instrumental', 'key_tone_A#', 'key_tone_B', 'key_tone_C',\n",
       "       'key_tone_C#', 'key_tone_D', 'key_tone_D#', 'key_tone_E', 'key_tone_F',\n",
       "       'key_tone_F#', 'key_tone_G', 'key_tone_G#', 'time_signature_1.0',\n",
       "       'time_signature_3.0', 'time_signature_4.0', 'time_signature_5.0'],\n",
       "      dtype='object')"
      ]
     },
     "execution_count": 8,
     "metadata": {},
     "output_type": "execute_result"
    }
   ],
   "source": [
    "df.columns"
   ]
  },
  {
   "cell_type": "code",
   "execution_count": 9,
   "metadata": {},
   "outputs": [],
   "source": [
    "df.drop(columns=[\"key\",\"liveness\",\"instrumentalness\"], inplace=True)"
   ]
  },
  {
   "cell_type": "code",
   "execution_count": 10,
   "metadata": {},
   "outputs": [],
   "source": [
    "features = [\"track_duration\", \"danceability\", \"energy\",\"is_major\",\n",
    "        \"speechiness\",\"acousticness\",\"valence\",\"tempo\",\"is_live\",\"is_instrumental\",\n",
    "       'key_tone_A#', 'key_tone_B', 'key_tone_C',\n",
    "       'key_tone_C#', 'key_tone_D', 'key_tone_D#', 'key_tone_E', 'key_tone_F',\n",
    "       'key_tone_F#', 'key_tone_G', 'key_tone_G#', 'time_signature_1.0',\n",
    "       'time_signature_3.0', 'time_signature_4.0', 'time_signature_5.0']"
   ]
  },
  {
   "cell_type": "code",
   "execution_count": 11,
   "metadata": {},
   "outputs": [],
   "source": [
    "X = df[features]"
   ]
  },
  {
   "cell_type": "code",
   "execution_count": 13,
   "metadata": {},
   "outputs": [],
   "source": [
    "ss = StandardScaler()"
   ]
  },
  {
   "cell_type": "code",
   "execution_count": 14,
   "metadata": {},
   "outputs": [
    {
     "name": "stderr",
     "output_type": "stream",
     "text": [
      "/anaconda3/envs/spotidsi/lib/python3.6/site-packages/sklearn/preprocessing/data.py:645: DataConversionWarning: Data with input dtype uint8, int64, float64 were all converted to float64 by StandardScaler.\n",
      "  return self.partial_fit(X, y)\n",
      "/anaconda3/envs/spotidsi/lib/python3.6/site-packages/sklearn/base.py:464: DataConversionWarning: Data with input dtype uint8, int64, float64 were all converted to float64 by StandardScaler.\n",
      "  return self.fit(X, **fit_params).transform(X)\n"
     ]
    }
   ],
   "source": [
    "X_sc = ss.fit_transform(X)"
   ]
  },
  {
   "cell_type": "markdown",
   "metadata": {},
   "source": [
    "## Clustering"
   ]
  },
  {
   "cell_type": "code",
   "execution_count": 35,
   "metadata": {},
   "outputs": [],
   "source": [
    "agg_cluster = AgglomerativeClustering()"
   ]
  },
  {
   "cell_type": "code",
   "execution_count": null,
   "metadata": {},
   "outputs": [],
   "source": [
    "agg_cluster.fit(X_sc)"
   ]
  },
  {
   "cell_type": "code",
   "execution_count": null,
   "metadata": {},
   "outputs": [],
   "source": []
  }
 ],
 "metadata": {
  "kernelspec": {
   "display_name": "Python 3",
   "language": "python",
   "name": "python3"
  },
  "language_info": {
   "codemirror_mode": {
    "name": "ipython",
    "version": 3
   },
   "file_extension": ".py",
   "mimetype": "text/x-python",
   "name": "python",
   "nbconvert_exporter": "python",
   "pygments_lexer": "ipython3",
   "version": "3.6.5"
  }
 },
 "nbformat": 4,
 "nbformat_minor": 2
}
