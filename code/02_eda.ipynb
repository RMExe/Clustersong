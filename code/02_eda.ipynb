{
 "cells": [
  {
   "cell_type": "markdown",
   "metadata": {},
   "source": [
    "# Data Cleaning and EDA"
   ]
  },
  {
   "cell_type": "markdown",
   "metadata": {},
   "source": [
    "## Abstract"
   ]
  },
  {
   "cell_type": "markdown",
   "metadata": {},
   "source": [
    "### Imports"
   ]
  },
  {
   "cell_type": "code",
   "execution_count": 1,
   "metadata": {},
   "outputs": [],
   "source": [
    "import pandas as pd\n",
    "import numpy as np\n",
    "import matplotlib.pyplot as plt\n",
    "import seaborn as sns\n",
    "%matplotlib inline"
   ]
  },
  {
   "cell_type": "markdown",
   "metadata": {},
   "source": [
    "### CSV Read-in"
   ]
  },
  {
   "cell_type": "code",
   "execution_count": 2,
   "metadata": {},
   "outputs": [
    {
     "data": {
      "text/html": [
       "<div>\n",
       "<style scoped>\n",
       "    .dataframe tbody tr th:only-of-type {\n",
       "        vertical-align: middle;\n",
       "    }\n",
       "\n",
       "    .dataframe tbody tr th {\n",
       "        vertical-align: top;\n",
       "    }\n",
       "\n",
       "    .dataframe thead th {\n",
       "        text-align: right;\n",
       "    }\n",
       "</style>\n",
       "<table border=\"1\" class=\"dataframe\">\n",
       "  <thead>\n",
       "    <tr style=\"text-align: right;\">\n",
       "      <th></th>\n",
       "      <th>artist_id</th>\n",
       "      <th>artist</th>\n",
       "      <th>album_id</th>\n",
       "      <th>album_names</th>\n",
       "      <th>track_id</th>\n",
       "      <th>track_number</th>\n",
       "      <th>track_title</th>\n",
       "      <th>track_duration</th>\n",
       "      <th>track_disc_number</th>\n",
       "      <th>danceability</th>\n",
       "      <th>energy</th>\n",
       "      <th>key</th>\n",
       "      <th>mode</th>\n",
       "      <th>speechiness</th>\n",
       "      <th>acousticness</th>\n",
       "      <th>instrumentalness</th>\n",
       "      <th>liveness</th>\n",
       "      <th>valence</th>\n",
       "      <th>tempo</th>\n",
       "      <th>time_signature</th>\n",
       "    </tr>\n",
       "  </thead>\n",
       "  <tbody>\n",
       "    <tr>\n",
       "      <th>0</th>\n",
       "      <td>1L0y9srZMyh9XUnYGv37IP</td>\n",
       "      <td>'Til Tuesday</td>\n",
       "      <td>67OxSfZotEq8cCa5SCeX5r</td>\n",
       "      <td>Everything's Different Now</td>\n",
       "      <td>5n9QFM4EiMeLGO0Mbwaqov</td>\n",
       "      <td>1.0</td>\n",
       "      <td>Everything's Different Now</td>\n",
       "      <td>236733.0</td>\n",
       "      <td>1.0</td>\n",
       "      <td>0.672</td>\n",
       "      <td>0.455</td>\n",
       "      <td>10.0</td>\n",
       "      <td>1.0</td>\n",
       "      <td>0.0393</td>\n",
       "      <td>0.0693</td>\n",
       "      <td>0.000033</td>\n",
       "      <td>0.1080</td>\n",
       "      <td>0.730</td>\n",
       "      <td>123.777</td>\n",
       "      <td>4.0</td>\n",
       "    </tr>\n",
       "    <tr>\n",
       "      <th>1</th>\n",
       "      <td>1L0y9srZMyh9XUnYGv37IP</td>\n",
       "      <td>'Til Tuesday</td>\n",
       "      <td>67OxSfZotEq8cCa5SCeX5r</td>\n",
       "      <td>Everything's Different Now</td>\n",
       "      <td>0BKslA1XqG8HBUKBl4d7EN</td>\n",
       "      <td>2.0</td>\n",
       "      <td>Rip In Heaven</td>\n",
       "      <td>211200.0</td>\n",
       "      <td>1.0</td>\n",
       "      <td>0.612</td>\n",
       "      <td>0.615</td>\n",
       "      <td>4.0</td>\n",
       "      <td>1.0</td>\n",
       "      <td>0.0351</td>\n",
       "      <td>0.4280</td>\n",
       "      <td>0.000000</td>\n",
       "      <td>0.3470</td>\n",
       "      <td>0.815</td>\n",
       "      <td>131.809</td>\n",
       "      <td>4.0</td>\n",
       "    </tr>\n",
       "    <tr>\n",
       "      <th>2</th>\n",
       "      <td>1L0y9srZMyh9XUnYGv37IP</td>\n",
       "      <td>'Til Tuesday</td>\n",
       "      <td>67OxSfZotEq8cCa5SCeX5r</td>\n",
       "      <td>Everything's Different Now</td>\n",
       "      <td>5G7NBdQLHc7GkehNmLG3yJ</td>\n",
       "      <td>3.0</td>\n",
       "      <td>Why Must I</td>\n",
       "      <td>221000.0</td>\n",
       "      <td>1.0</td>\n",
       "      <td>0.586</td>\n",
       "      <td>0.670</td>\n",
       "      <td>1.0</td>\n",
       "      <td>1.0</td>\n",
       "      <td>0.0268</td>\n",
       "      <td>0.2290</td>\n",
       "      <td>0.000035</td>\n",
       "      <td>0.3230</td>\n",
       "      <td>0.838</td>\n",
       "      <td>96.486</td>\n",
       "      <td>4.0</td>\n",
       "    </tr>\n",
       "    <tr>\n",
       "      <th>3</th>\n",
       "      <td>1L0y9srZMyh9XUnYGv37IP</td>\n",
       "      <td>'Til Tuesday</td>\n",
       "      <td>67OxSfZotEq8cCa5SCeX5r</td>\n",
       "      <td>Everything's Different Now</td>\n",
       "      <td>0J6nZDgEuwXtECq8Pukn1n</td>\n",
       "      <td>4.0</td>\n",
       "      <td>J For Jules</td>\n",
       "      <td>265493.0</td>\n",
       "      <td>1.0</td>\n",
       "      <td>0.475</td>\n",
       "      <td>0.355</td>\n",
       "      <td>10.0</td>\n",
       "      <td>1.0</td>\n",
       "      <td>0.0308</td>\n",
       "      <td>0.4620</td>\n",
       "      <td>0.000001</td>\n",
       "      <td>0.1190</td>\n",
       "      <td>0.262</td>\n",
       "      <td>151.651</td>\n",
       "      <td>4.0</td>\n",
       "    </tr>\n",
       "    <tr>\n",
       "      <th>4</th>\n",
       "      <td>1L0y9srZMyh9XUnYGv37IP</td>\n",
       "      <td>'Til Tuesday</td>\n",
       "      <td>67OxSfZotEq8cCa5SCeX5r</td>\n",
       "      <td>Everything's Different Now</td>\n",
       "      <td>3Lm7hSTabr01oav0WdSsuD</td>\n",
       "      <td>5.0</td>\n",
       "      <td>(Believed You Were) Lucky</td>\n",
       "      <td>216973.0</td>\n",
       "      <td>1.0</td>\n",
       "      <td>0.612</td>\n",
       "      <td>0.523</td>\n",
       "      <td>5.0</td>\n",
       "      <td>1.0</td>\n",
       "      <td>0.0321</td>\n",
       "      <td>0.4480</td>\n",
       "      <td>0.000002</td>\n",
       "      <td>0.0727</td>\n",
       "      <td>0.495</td>\n",
       "      <td>124.315</td>\n",
       "      <td>4.0</td>\n",
       "    </tr>\n",
       "  </tbody>\n",
       "</table>\n",
       "</div>"
      ],
      "text/plain": [
       "                artist_id        artist                album_id  \\\n",
       "0  1L0y9srZMyh9XUnYGv37IP  'Til Tuesday  67OxSfZotEq8cCa5SCeX5r   \n",
       "1  1L0y9srZMyh9XUnYGv37IP  'Til Tuesday  67OxSfZotEq8cCa5SCeX5r   \n",
       "2  1L0y9srZMyh9XUnYGv37IP  'Til Tuesday  67OxSfZotEq8cCa5SCeX5r   \n",
       "3  1L0y9srZMyh9XUnYGv37IP  'Til Tuesday  67OxSfZotEq8cCa5SCeX5r   \n",
       "4  1L0y9srZMyh9XUnYGv37IP  'Til Tuesday  67OxSfZotEq8cCa5SCeX5r   \n",
       "\n",
       "                  album_names                track_id  track_number  \\\n",
       "0  Everything's Different Now  5n9QFM4EiMeLGO0Mbwaqov           1.0   \n",
       "1  Everything's Different Now  0BKslA1XqG8HBUKBl4d7EN           2.0   \n",
       "2  Everything's Different Now  5G7NBdQLHc7GkehNmLG3yJ           3.0   \n",
       "3  Everything's Different Now  0J6nZDgEuwXtECq8Pukn1n           4.0   \n",
       "4  Everything's Different Now  3Lm7hSTabr01oav0WdSsuD           5.0   \n",
       "\n",
       "                  track_title  track_duration  track_disc_number  \\\n",
       "0  Everything's Different Now        236733.0                1.0   \n",
       "1               Rip In Heaven        211200.0                1.0   \n",
       "2                  Why Must I        221000.0                1.0   \n",
       "3                 J For Jules        265493.0                1.0   \n",
       "4   (Believed You Were) Lucky        216973.0                1.0   \n",
       "\n",
       "   danceability  energy   key  mode  speechiness  acousticness  \\\n",
       "0         0.672   0.455  10.0   1.0       0.0393        0.0693   \n",
       "1         0.612   0.615   4.0   1.0       0.0351        0.4280   \n",
       "2         0.586   0.670   1.0   1.0       0.0268        0.2290   \n",
       "3         0.475   0.355  10.0   1.0       0.0308        0.4620   \n",
       "4         0.612   0.523   5.0   1.0       0.0321        0.4480   \n",
       "\n",
       "   instrumentalness  liveness  valence    tempo  time_signature  \n",
       "0          0.000033    0.1080    0.730  123.777             4.0  \n",
       "1          0.000000    0.3470    0.815  131.809             4.0  \n",
       "2          0.000035    0.3230    0.838   96.486             4.0  \n",
       "3          0.000001    0.1190    0.262  151.651             4.0  \n",
       "4          0.000002    0.0727    0.495  124.315             4.0  "
      ]
     },
     "execution_count": 2,
     "metadata": {},
     "output_type": "execute_result"
    }
   ],
   "source": [
    "df = pd.read_csv(\"../data/musicdata.csv\")\n",
    "df.head()"
   ]
  },
  {
   "cell_type": "code",
   "execution_count": 3,
   "metadata": {},
   "outputs": [
    {
     "data": {
      "text/plain": [
       "(98425, 20)"
      ]
     },
     "execution_count": 3,
     "metadata": {},
     "output_type": "execute_result"
    }
   ],
   "source": [
    "df.shape"
   ]
  },
  {
   "cell_type": "markdown",
   "metadata": {},
   "source": [
    "## Data Cleaning"
   ]
  },
  {
   "cell_type": "markdown",
   "metadata": {},
   "source": [
    "Let's review our columns."
   ]
  },
  {
   "cell_type": "code",
   "execution_count": 4,
   "metadata": {},
   "outputs": [
    {
     "name": "stdout",
     "output_type": "stream",
     "text": [
      "<class 'pandas.core.frame.DataFrame'>\n",
      "RangeIndex: 98425 entries, 0 to 98424\n",
      "Data columns (total 20 columns):\n",
      "artist_id            98341 non-null object\n",
      "artist               98425 non-null object\n",
      "album_id             98341 non-null object\n",
      "album_names          98341 non-null object\n",
      "track_id             98341 non-null object\n",
      "track_number         98341 non-null float64\n",
      "track_title          98341 non-null object\n",
      "track_duration       98341 non-null float64\n",
      "track_disc_number    98341 non-null float64\n",
      "danceability         98338 non-null float64\n",
      "energy               98338 non-null float64\n",
      "key                  98338 non-null float64\n",
      "mode                 98338 non-null float64\n",
      "speechiness          98338 non-null float64\n",
      "acousticness         98338 non-null float64\n",
      "instrumentalness     98338 non-null float64\n",
      "liveness             98338 non-null float64\n",
      "valence              98337 non-null float64\n",
      "tempo                98338 non-null float64\n",
      "time_signature       98338 non-null float64\n",
      "dtypes: float64(14), object(6)\n",
      "memory usage: 15.0+ MB\n"
     ]
    }
   ],
   "source": [
    "df.info()"
   ]
  },
  {
   "cell_type": "markdown",
   "metadata": {},
   "source": [
    "Nothing really out of the ordinary here, so our data is surprisingly neat already."
   ]
  },
  {
   "cell_type": "markdown",
   "metadata": {},
   "source": [
    "### Missing Values"
   ]
  },
  {
   "cell_type": "markdown",
   "metadata": {},
   "source": []
  },
  {
   "cell_type": "code",
   "execution_count": 5,
   "metadata": {},
   "outputs": [
    {
     "data": {
      "text/plain": [
       "artist_id            84\n",
       "artist                0\n",
       "album_id             84\n",
       "album_names          84\n",
       "track_id             84\n",
       "track_number         84\n",
       "track_title          84\n",
       "track_duration       84\n",
       "track_disc_number    84\n",
       "danceability         87\n",
       "energy               87\n",
       "key                  87\n",
       "mode                 87\n",
       "speechiness          87\n",
       "acousticness         87\n",
       "instrumentalness     87\n",
       "liveness             87\n",
       "valence              88\n",
       "tempo                87\n",
       "time_signature       87\n",
       "dtype: int64"
      ]
     },
     "execution_count": 5,
     "metadata": {},
     "output_type": "execute_result"
    }
   ],
   "source": [
    "df.isna().sum()"
   ]
  },
  {
   "cell_type": "markdown",
   "metadata": {},
   "source": [
    "Noticing how every value seems to be very similar to other values, my intuition is these are artists that are not available on Spotify. While it is very likely there is some underlying pattern here for what would be signed with a streaming service and what would not, it also represents probably about $88$ rows of $98,425$.  I am curious about the row that is missing only valence. Other than that, while this could be an interesting missing pattern to explore, that feels more like its own project, and given their small makeup, I will likely end up just dropping these rows."
   ]
  },
  {
   "cell_type": "code",
   "execution_count": 6,
   "metadata": {},
   "outputs": [
    {
     "name": "stdout",
     "output_type": "stream",
     "text": [
      "Dropping all the null rows would result in losing 88 songs.\n"
     ]
    }
   ],
   "source": [
    "print(f\"Dropping all the null rows would result in losing {df.shape[0] - df.dropna().shape[0]} songs.\")"
   ]
  },
  {
   "cell_type": "markdown",
   "metadata": {},
   "source": [
    "Confirms earlier suspicions that these are artists who are missing from spotify.  After that, we have aritsts with profiles on the service but not offering any albums on the service.  Lastly, I want to check what song is missing its valence:"
   ]
  },
  {
   "cell_type": "code",
   "execution_count": 7,
   "metadata": {},
   "outputs": [
    {
     "data": {
      "text/html": [
       "<div>\n",
       "<style scoped>\n",
       "    .dataframe tbody tr th:only-of-type {\n",
       "        vertical-align: middle;\n",
       "    }\n",
       "\n",
       "    .dataframe tbody tr th {\n",
       "        vertical-align: top;\n",
       "    }\n",
       "\n",
       "    .dataframe thead th {\n",
       "        text-align: right;\n",
       "    }\n",
       "</style>\n",
       "<table border=\"1\" class=\"dataframe\">\n",
       "  <thead>\n",
       "    <tr style=\"text-align: right;\">\n",
       "      <th></th>\n",
       "      <th>artist_id</th>\n",
       "      <th>artist</th>\n",
       "      <th>album_id</th>\n",
       "      <th>album_names</th>\n",
       "      <th>track_id</th>\n",
       "      <th>track_number</th>\n",
       "      <th>track_title</th>\n",
       "      <th>track_duration</th>\n",
       "      <th>track_disc_number</th>\n",
       "      <th>danceability</th>\n",
       "      <th>energy</th>\n",
       "      <th>key</th>\n",
       "      <th>mode</th>\n",
       "      <th>speechiness</th>\n",
       "      <th>acousticness</th>\n",
       "      <th>instrumentalness</th>\n",
       "      <th>liveness</th>\n",
       "      <th>valence</th>\n",
       "      <th>tempo</th>\n",
       "      <th>time_signature</th>\n",
       "    </tr>\n",
       "  </thead>\n",
       "  <tbody>\n",
       "    <tr>\n",
       "      <th>73068</th>\n",
       "      <td>6QtGlUje9TIkLrgPZrESuk</td>\n",
       "      <td>Steve Miller Band</td>\n",
       "      <td>36G9sqbDXXbE7Mv9GTDMXd</td>\n",
       "      <td>Book Of Dreams</td>\n",
       "      <td>27AyeOoNoGue7zRyH4CR1I</td>\n",
       "      <td>8.0</td>\n",
       "      <td>Electro Lux Imbroglio</td>\n",
       "      <td>57466.0</td>\n",
       "      <td>1.0</td>\n",
       "      <td>0.175</td>\n",
       "      <td>0.00018</td>\n",
       "      <td>1.0</td>\n",
       "      <td>1.0</td>\n",
       "      <td>0.0605</td>\n",
       "      <td>0.0461</td>\n",
       "      <td>0.997</td>\n",
       "      <td>0.108</td>\n",
       "      <td>NaN</td>\n",
       "      <td>71.049</td>\n",
       "      <td>4.0</td>\n",
       "    </tr>\n",
       "  </tbody>\n",
       "</table>\n",
       "</div>"
      ],
      "text/plain": [
       "                    artist_id             artist                album_id  \\\n",
       "73068  6QtGlUje9TIkLrgPZrESuk  Steve Miller Band  36G9sqbDXXbE7Mv9GTDMXd   \n",
       "\n",
       "          album_names                track_id  track_number  \\\n",
       "73068  Book Of Dreams  27AyeOoNoGue7zRyH4CR1I           8.0   \n",
       "\n",
       "                 track_title  track_duration  track_disc_number  danceability  \\\n",
       "73068  Electro Lux Imbroglio         57466.0                1.0         0.175   \n",
       "\n",
       "        energy  key  mode  speechiness  acousticness  instrumentalness  \\\n",
       "73068  0.00018  1.0   1.0       0.0605        0.0461             0.997   \n",
       "\n",
       "       liveness  valence   tempo  time_signature  \n",
       "73068     0.108      NaN  71.049             4.0  "
      ]
     },
     "execution_count": 7,
     "metadata": {},
     "output_type": "execute_result"
    }
   ],
   "source": [
    "df[(df[\"valence\"].isna()) & (df[\"tempo\"].notna())]"
   ]
  },
  {
   "cell_type": "markdown",
   "metadata": {},
   "source": [
    "_Electro Lux Imbroglio_ by *The Steve Miller Band* is the culprit here.  The song in question is less a song and more a mortar for the album; acting mostly as an extended lead in for the next track.  It's about $57$ seconds of a sustained organ chord, with what I believe is a theramin tracing out a basic melody.  It makes sense that valence would be absent.  The key field, and to my not incredibly trained ear, suggests it is a C# Major chord."
   ]
  },
  {
   "cell_type": "code",
   "execution_count": 8,
   "metadata": {},
   "outputs": [
    {
     "data": {
      "text/plain": [
       "(98337, 20)"
      ]
     },
     "execution_count": 8,
     "metadata": {},
     "output_type": "execute_result"
    }
   ],
   "source": [
    "df.dropna(inplace=True)\n",
    "df.shape"
   ]
  },
  {
   "cell_type": "markdown",
   "metadata": {},
   "source": [
    "Finally, we should relabel some columns and change how they are represented."
   ]
  },
  {
   "cell_type": "markdown",
   "metadata": {},
   "source": [
    "`mode` is a guess at if the song is mostly in a major or minor key, with $1$ being major."
   ]
  },
  {
   "cell_type": "code",
   "execution_count": 11,
   "metadata": {},
   "outputs": [],
   "source": [
    "df.rename({\"mode\" : \"is_major\"},inplace=True)"
   ]
  },
  {
   "cell_type": "markdown",
   "metadata": {},
   "source": [
    "`instrumentalness` and `liveness`, while represented by a $[0,1]$ range of values, are softly categorical, with the former having $>0.5$ meaning likely instrumental, and the closer $1$ signifying more confidence. `liveness` similarly has a threshold at $0.8$, where values above that meaning an increase in confidence."
   ]
  },
  {
   "cell_type": "code",
   "execution_count": 12,
   "metadata": {},
   "outputs": [],
   "source": [
    "df[\"is_live\"] = df.liveness.map(lambda x: x >= 0.8)\n",
    "df[\"is_instrumental\"] = df.instrumentalness.map(lambda x : x >= 0.5)"
   ]
  },
  {
   "cell_type": "markdown",
   "metadata": {},
   "source": [
    "For exploration, I will keep it as a different column."
   ]
  },
  {
   "cell_type": "markdown",
   "metadata": {},
   "source": [
    "Key is written as the usual [pitch classes](https://en.wikipedia.org/wiki/Pitch_class#Other_ways_to_label_pitch_classes) notation, so it should be noted that while it is numerical here, it is a categorical definition under the hood."
   ]
  },
  {
   "cell_type": "code",
   "execution_count": 19,
   "metadata": {},
   "outputs": [],
   "source": [
    "key_notes = {-1.0: \"key not detected\"\n",
    "             0.0: \"C\",\n",
    "             1.0: \"C#\",\n",
    "             2.0: \"D\",\n",
    "             3.0: \"D#\",\n",
    "             4.0: \"E\",\n",
    "             5.0: \"F\",\n",
    "             6.0: \"F#\",\n",
    "             7.0: \"G\",\n",
    "             8.0: \"G#\",\n",
    "             9.0 :\"A\",\n",
    "             10.0:\"A#\",\n",
    "             11.0:\"B\"}"
   ]
  },
  {
   "cell_type": "code",
   "execution_count": 20,
   "metadata": {},
   "outputs": [],
   "source": [
    "df[\"key_tone\"] = df.key.map(key_notes)"
   ]
  },
  {
   "cell_type": "code",
   "execution_count": 18,
   "metadata": {},
   "outputs": [
    {
     "data": {
      "text/plain": [
       "0.0     0.128355\n",
       "1.0     0.072007\n",
       "2.0     0.133063\n",
       "3.0     0.025240\n",
       "4.0     0.090475\n",
       "5.0     0.067187\n",
       "6.0     0.050856\n",
       "7.0     0.128029\n",
       "8.0     0.046127\n",
       "9.0     0.130714\n",
       "10.0    0.049310\n",
       "11.0    0.078638\n",
       "Name: key, dtype: float64"
      ]
     },
     "execution_count": 18,
     "metadata": {},
     "output_type": "execute_result"
    }
   ],
   "source": [
    "df.key.value_counts(normalize=True).sort_index()"
   ]
  },
  {
   "cell_type": "markdown",
   "metadata": {},
   "source": [
    "## Exploratory Data Analysis"
   ]
  },
  {
   "cell_type": "code",
   "execution_count": 10,
   "metadata": {},
   "outputs": [
    {
     "data": {
      "text/plain": [
       "4.0    0.892553\n",
       "3.0    0.083061\n",
       "5.0    0.013657\n",
       "1.0    0.008105\n",
       "0.0    0.002624\n",
       "Name: time_signature, dtype: float64"
      ]
     },
     "execution_count": 10,
     "metadata": {},
     "output_type": "execute_result"
    }
   ],
   "source": [
    "df.time_signature.value_counts(normalize=True)"
   ]
  },
  {
   "cell_type": "code",
   "execution_count": 28,
   "metadata": {},
   "outputs": [
    {
     "data": {
      "text/plain": [
       "<matplotlib.axes._subplots.AxesSubplot at 0x1a1ce93588>"
      ]
     },
     "execution_count": 28,
     "metadata": {},
     "output_type": "execute_result"
    },
    {
     "data": {
      "image/png": "[encoded data removed]",
      "text/plain": [
       "<Figure size 864x720 with 1 Axes>"
      ]
     },
     "metadata": {},
     "output_type": "display_data"
    }
   ],
   "source": [
    "plt.figure(figsize=(12,10))\n",
    "sns.barplot(x=[4,3,5,1,0], y=df.time_signature.value_counts())"
   ]
  },
  {
   "cell_type": "markdown",
   "metadata": {},
   "source": [
    "Time signature is best guess at how many beats per measure, usually thought of as the numerator of a time signature."
   ]
  },
  {
   "cell_type": "code",
   "execution_count": 42,
   "metadata": {},
   "outputs": [
    {
     "data": {
      "text/plain": [
       "<matplotlib.axes._subplots.AxesSubplot at 0x1a1ecfbda0>"
      ]
     },
     "execution_count": 42,
     "metadata": {},
     "output_type": "execute_result"
    },
    {
     "data": {
      "image/png": "[encoded data removed]",
      "text/plain": [
       "<Figure size 432x288 with 1 Axes>"
      ]
     },
     "metadata": {},
     "output_type": "display_data"
    }
   ],
   "source": [
    "sns.countplot(df.key_tone)"
   ]
  },
  {
   "cell_type": "code",
   "execution_count": null,
   "metadata": {},
   "outputs": [],
   "source": []
  }
 ],
 "metadata": {
  "kernelspec": {
   "display_name": "Python 3",
   "language": "python",
   "name": "python3"
  },
  "language_info": {
   "codemirror_mode": {
    "name": "ipython",
    "version": 3
   },
   "file_extension": ".py",
   "mimetype": "text/x-python",
   "name": "python",
   "nbconvert_exporter": "python",
   "pygments_lexer": "ipython3",
   "version": "3.6.5"
  }
 },
 "nbformat": 4,
 "nbformat_minor": 2
}
