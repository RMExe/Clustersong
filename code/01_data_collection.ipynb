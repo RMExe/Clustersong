{
 "cells": [
  {
   "cell_type": "markdown",
   "metadata": {},
   "source": [
    "# Data Collection"
   ]
  },
  {
   "cell_type": "markdown",
   "metadata": {},
   "source": [
    "## Abstract"
   ]
  },
  {
   "cell_type": "markdown",
   "metadata": {},
   "source": [
    "Text"
   ]
  },
  {
   "cell_type": "markdown",
   "metadata": {},
   "source": [
    "## Imports"
   ]
  },
  {
   "cell_type": "code",
   "execution_count": 1,
   "metadata": {},
   "outputs": [],
   "source": [
    "import requests\n",
    "import json\n",
    "import os\n",
    "\n",
    "import spotipy\n",
    "from spotipy.oauth2 import SpotifyClientCredentials\n",
    "from spotipy.util import prompt_for_user_token\n",
    "\n",
    "import numpy as np\n",
    "import pandas as pd"
   ]
  },
  {
   "cell_type": "markdown",
   "metadata": {},
   "source": [
    "### Tracks Read In"
   ]
  },
  {
   "cell_type": "code",
   "execution_count": 2,
   "metadata": {},
   "outputs": [
    {
     "data": {
      "text/html": [
       "<div>\n",
       "<style scoped>\n",
       "    .dataframe tbody tr th:only-of-type {\n",
       "        vertical-align: middle;\n",
       "    }\n",
       "\n",
       "    .dataframe tbody tr th {\n",
       "        vertical-align: top;\n",
       "    }\n",
       "\n",
       "    .dataframe thead th {\n",
       "        text-align: right;\n",
       "    }\n",
       "</style>\n",
       "<table border=\"1\" class=\"dataframe\">\n",
       "  <thead>\n",
       "    <tr style=\"text-align: right;\">\n",
       "      <th></th>\n",
       "      <th>Artist</th>\n",
       "      <th>Title</th>\n",
       "      <th>Track</th>\n",
       "      <th>Album</th>\n",
       "      <th>Year</th>\n",
       "      <th>Genre</th>\n",
       "      <th>Length</th>\n",
       "      <th>Bitrate</th>\n",
       "    </tr>\n",
       "  </thead>\n",
       "  <tbody>\n",
       "    <tr>\n",
       "      <th>0</th>\n",
       "      <td>10,000 Maniacs</td>\n",
       "      <td>These Are Days</td>\n",
       "      <td>01</td>\n",
       "      <td>MTV Unplugged</td>\n",
       "      <td>1993</td>\n",
       "      <td>Rock/Pop</td>\n",
       "      <td>04:53</td>\n",
       "      <td>192</td>\n",
       "    </tr>\n",
       "    <tr>\n",
       "      <th>1</th>\n",
       "      <td>2814</td>\n",
       "      <td>恢复</td>\n",
       "      <td>01</td>\n",
       "      <td>新しい日の誕生</td>\n",
       "      <td>2015</td>\n",
       "      <td>NaN</td>\n",
       "      <td>05:51</td>\n",
       "      <td>277</td>\n",
       "    </tr>\n",
       "    <tr>\n",
       "      <th>2</th>\n",
       "      <td>2814</td>\n",
       "      <td>遠くの愛好家</td>\n",
       "      <td>02</td>\n",
       "      <td>新しい日の誕生</td>\n",
       "      <td>2015</td>\n",
       "      <td>NaN</td>\n",
       "      <td>06:18</td>\n",
       "      <td>233</td>\n",
       "    </tr>\n",
       "    <tr>\n",
       "      <th>3</th>\n",
       "      <td>2814</td>\n",
       "      <td>新宿ゴールデン街</td>\n",
       "      <td>03</td>\n",
       "      <td>新しい日の誕生</td>\n",
       "      <td>2015</td>\n",
       "      <td>NaN</td>\n",
       "      <td>08:51</td>\n",
       "      <td>277</td>\n",
       "    </tr>\n",
       "    <tr>\n",
       "      <th>4</th>\n",
       "      <td>2814</td>\n",
       "      <td>ふわっと</td>\n",
       "      <td>04</td>\n",
       "      <td>新しい日の誕生</td>\n",
       "      <td>2015</td>\n",
       "      <td>NaN</td>\n",
       "      <td>06:36</td>\n",
       "      <td>266</td>\n",
       "    </tr>\n",
       "  </tbody>\n",
       "</table>\n",
       "</div>"
      ],
      "text/plain": [
       "           Artist           Title Track          Album  Year     Genre Length  \\\n",
       "0  10,000 Maniacs  These Are Days    01  MTV Unplugged  1993  Rock/Pop  04:53   \n",
       "1            2814              恢复    01        新しい日の誕生  2015       NaN  05:51   \n",
       "2            2814          遠くの愛好家    02        新しい日の誕生  2015       NaN  06:18   \n",
       "3            2814        新宿ゴールデン街    03        新しい日の誕生  2015       NaN  08:51   \n",
       "4            2814            ふわっと    04        新しい日の誕生  2015       NaN  06:36   \n",
       "\n",
       "   Bitrate  \n",
       "0      192  \n",
       "1      277  \n",
       "2      233  \n",
       "3      277  \n",
       "4      266  "
      ]
     },
     "execution_count": 2,
     "metadata": {},
     "output_type": "execute_result"
    }
   ],
   "source": [
    "my_library_df = pd.read_csv(\"../data/tracks.csv\")\n",
    "my_library_df.head()"
   ]
  },
  {
   "cell_type": "markdown",
   "metadata": {},
   "source": [
    "## Authorization Flow"
   ]
  },
  {
   "cell_type": "code",
   "execution_count": 3,
   "metadata": {},
   "outputs": [],
   "source": [
    "# https://stackoverflow.com/questions/4906977/how-to-access-environment-variable-values\n",
    "# Storing API keys in env variables helps obscure secrets from the public while making the code not break\n",
    "# if you would like to use this notebook please either replace these assignments directly OR set your env variables with the given names!\n",
    "\n",
    "SPOTIFY_CLIENT_ID = os.environ.get(\"SPOTIFY_CLIENT_ID\")\n",
    "SPOTIFY_CLIENT_SECRET = os.environ.get(\"SPOTIFY_CLIENT_SECRET\")\n",
    "# No real reason to set localhost to an env variable, nothing special about it\n",
    "SPOTIFY_REDIRECT_URL = \"http://localhost/\""
   ]
  },
  {
   "cell_type": "code",
   "execution_count": 4,
   "metadata": {},
   "outputs": [],
   "source": [
    "#Make helper object to handle client_credential flow\n",
    "client_credits = SpotifyClientCredentials(SPOTIFY_CLIENT_ID, SPOTIFY_CLIENT_SECRET)\n",
    "\n",
    "#Setup up wrapper object with details setup\n",
    "sp = spotipy.client.Spotify(client_credentials_manager=client_credits)"
   ]
  },
  {
   "cell_type": "code",
   "execution_count": 6,
   "metadata": {},
   "outputs": [],
   "source": [
    "track_id_df = pd.read_csv(\"../data/raw/tracks.csv\")"
   ]
  },
  {
   "cell_type": "code",
   "execution_count": 8,
   "metadata": {},
   "outputs": [],
   "source": [
    "track_ids = [track_id for track_id in track_id_df.track_id]"
   ]
  },
  {
   "cell_type": "markdown",
   "metadata": {},
   "source": [
    "## Collect Artist IDs"
   ]
  },
  {
   "cell_type": "markdown",
   "metadata": {},
   "source": [
    "Spotify works on its own set of IDs, so I have to use the search endpoint to essentially cross reference them."
   ]
  },
  {
   "cell_type": "markdown",
   "metadata": {},
   "source": [
    "### Retrieve Artists"
   ]
  },
  {
   "cell_type": "code",
   "execution_count": 20,
   "metadata": {},
   "outputs": [],
   "source": [
    "artists = [artist for artist in my_library_df.groupby(\"Artist\").mean().index]"
   ]
  },
  {
   "cell_type": "code",
   "execution_count": 68,
   "metadata": {},
   "outputs": [],
   "source": [
    "artist_ids = []\n",
    "for artist in artists:\n",
    "    result = sp.search(artist,type=\"artist\")\n",
    "    if result[\"artists\"][\"items\"]: #non empty lists are true like in python\n",
    "        artist_ids.append(result[\"artists\"][\"items\"][0][\"id\"])\n",
    "    else:\n",
    "        artist_ids.append(None)"
   ]
  },
  {
   "cell_type": "code",
   "execution_count": 99,
   "metadata": {},
   "outputs": [
    {
     "data": {
      "text/html": [
       "<div>\n",
       "<style scoped>\n",
       "    .dataframe tbody tr th:only-of-type {\n",
       "        vertical-align: middle;\n",
       "    }\n",
       "\n",
       "    .dataframe tbody tr th {\n",
       "        vertical-align: top;\n",
       "    }\n",
       "\n",
       "    .dataframe thead th {\n",
       "        text-align: right;\n",
       "    }\n",
       "</style>\n",
       "<table border=\"1\" class=\"dataframe\">\n",
       "  <thead>\n",
       "    <tr style=\"text-align: right;\">\n",
       "      <th></th>\n",
       "      <th>artist_id</th>\n",
       "    </tr>\n",
       "  </thead>\n",
       "  <tbody>\n",
       "    <tr>\n",
       "      <th>'Til Tuesday</th>\n",
       "      <td>1L0y9srZMyh9XUnYGv37IP</td>\n",
       "    </tr>\n",
       "    <tr>\n",
       "      <th>(T-T)b</th>\n",
       "      <td>36ofeSYIu5DGRarLS0GhnG</td>\n",
       "    </tr>\n",
       "    <tr>\n",
       "      <th>10,000 Maniacs</th>\n",
       "      <td>0MBIKH9DjtBkv8O3nS6szj</td>\n",
       "    </tr>\n",
       "    <tr>\n",
       "      <th>2814</th>\n",
       "      <td>2wBpW4bAGYVe0yJcBeCTyd</td>\n",
       "    </tr>\n",
       "    <tr>\n",
       "      <th>311</th>\n",
       "      <td>41Q0HrwWBtuUkJc7C1Rp6K</td>\n",
       "    </tr>\n",
       "  </tbody>\n",
       "</table>\n",
       "</div>"
      ],
      "text/plain": [
       "                             artist_id\n",
       "'Til Tuesday    1L0y9srZMyh9XUnYGv37IP\n",
       "(T-T)b          36ofeSYIu5DGRarLS0GhnG\n",
       "10,000 Maniacs  0MBIKH9DjtBkv8O3nS6szj\n",
       "2814            2wBpW4bAGYVe0yJcBeCTyd\n",
       "311             41Q0HrwWBtuUkJc7C1Rp6K"
      ]
     },
     "execution_count": 99,
     "metadata": {},
     "output_type": "execute_result"
    }
   ],
   "source": [
    "artist_df = pd.DataFrame.from_dict({ artist_name : [artist_id] for artist_name, artist_id in zip(artists,artist_ids)},orient=\"index\")\n",
    "artist_df.columns = [\"artist_id\"]\n",
    "artist_df.head()"
   ]
  },
  {
   "cell_type": "markdown",
   "metadata": {},
   "source": [
    "## Collect Album IDs"
   ]
  },
  {
   "cell_type": "markdown",
   "metadata": {},
   "source": [
    "### Call API"
   ]
  },
  {
   "cell_type": "code",
   "execution_count": 103,
   "metadata": {},
   "outputs": [],
   "source": [
    "results = {}\n",
    "for artist in artist_ids:\n",
    "    if artist:\n",
    "        result = sp.artist_albums(artist, album_type=\"album\")\n",
    "        results[artist] = result\n",
    "    else:\n",
    "        results[artist] = None"
   ]
  },
  {
   "cell_type": "markdown",
   "metadata": {},
   "source": [
    "### Parse Results"
   ]
  },
  {
   "cell_type": "code",
   "execution_count": 136,
   "metadata": {},
   "outputs": [],
   "source": [
    "album_ids = []\n",
    "album_names = []\n",
    "album_artist_ids = []\n",
    "for artist_id, corpus in results.items():\n",
    "    if corpus:\n",
    "        albums = corpus[\"items\"]\n",
    "        for album in albums:\n",
    "            album_artist_ids.append(artist_id)\n",
    "            album_names.append(album[\"name\"])\n",
    "            album_ids.append(album[\"id\"])\n",
    "    else:\n",
    "        album_artist_ids.append(artist_id)\n",
    "        album_names.append(None)\n",
    "        album_ids.append(None)"
   ]
  },
  {
   "cell_type": "code",
   "execution_count": 142,
   "metadata": {},
   "outputs": [
    {
     "data": {
      "text/html": [
       "<div>\n",
       "<style scoped>\n",
       "    .dataframe tbody tr th:only-of-type {\n",
       "        vertical-align: middle;\n",
       "    }\n",
       "\n",
       "    .dataframe tbody tr th {\n",
       "        vertical-align: top;\n",
       "    }\n",
       "\n",
       "    .dataframe thead th {\n",
       "        text-align: right;\n",
       "    }\n",
       "</style>\n",
       "<table border=\"1\" class=\"dataframe\">\n",
       "  <thead>\n",
       "    <tr style=\"text-align: right;\">\n",
       "      <th></th>\n",
       "      <th>album_id</th>\n",
       "      <th>album_names</th>\n",
       "      <th>album_artist_id</th>\n",
       "    </tr>\n",
       "  </thead>\n",
       "  <tbody>\n",
       "    <tr>\n",
       "      <th>0</th>\n",
       "      <td>67OxSfZotEq8cCa5SCeX5r</td>\n",
       "      <td>Everything's Different Now</td>\n",
       "      <td>1L0y9srZMyh9XUnYGv37IP</td>\n",
       "    </tr>\n",
       "    <tr>\n",
       "      <th>1</th>\n",
       "      <td>3HiUlOjCrUd9ATG6uHyPI7</td>\n",
       "      <td>Welcome Home</td>\n",
       "      <td>1L0y9srZMyh9XUnYGv37IP</td>\n",
       "    </tr>\n",
       "    <tr>\n",
       "      <th>2</th>\n",
       "      <td>1y4s0JN8CQMRwPTJ64jCUp</td>\n",
       "      <td>Voices Carry (Expanded Edition)</td>\n",
       "      <td>1L0y9srZMyh9XUnYGv37IP</td>\n",
       "    </tr>\n",
       "    <tr>\n",
       "      <th>3</th>\n",
       "      <td>02y1bX0SrCWK6WvJgPPpw7</td>\n",
       "      <td>Coming Up Close: A Retrospective</td>\n",
       "      <td>1L0y9srZMyh9XUnYGv37IP</td>\n",
       "    </tr>\n",
       "    <tr>\n",
       "      <th>4</th>\n",
       "      <td>7ExRUn1YpGbfL2j4ILYHh3</td>\n",
       "      <td>Coming Up Close: A Retrospective</td>\n",
       "      <td>1L0y9srZMyh9XUnYGv37IP</td>\n",
       "    </tr>\n",
       "  </tbody>\n",
       "</table>\n",
       "</div>"
      ],
      "text/plain": [
       "                 album_id                       album_names  \\\n",
       "0  67OxSfZotEq8cCa5SCeX5r        Everything's Different Now   \n",
       "1  3HiUlOjCrUd9ATG6uHyPI7                      Welcome Home   \n",
       "2  1y4s0JN8CQMRwPTJ64jCUp   Voices Carry (Expanded Edition)   \n",
       "3  02y1bX0SrCWK6WvJgPPpw7  Coming Up Close: A Retrospective   \n",
       "4  7ExRUn1YpGbfL2j4ILYHh3  Coming Up Close: A Retrospective   \n",
       "\n",
       "          album_artist_id  \n",
       "0  1L0y9srZMyh9XUnYGv37IP  \n",
       "1  1L0y9srZMyh9XUnYGv37IP  \n",
       "2  1L0y9srZMyh9XUnYGv37IP  \n",
       "3  1L0y9srZMyh9XUnYGv37IP  \n",
       "4  1L0y9srZMyh9XUnYGv37IP  "
      ]
     },
     "execution_count": 142,
     "metadata": {},
     "output_type": "execute_result"
    }
   ],
   "source": [
    "albums_df = pd.DataFrame({\"album_id\" : album_ids,\n",
    "                          \"album_names\" : album_names,\n",
    "                          \"album_artist_id\" : album_artist_ids})\n",
    "\n",
    "albums_df.head()"
   ]
  },
  {
   "cell_type": "markdown",
   "metadata": {},
   "source": [
    "## Collect Track IDs"
   ]
  },
  {
   "cell_type": "markdown",
   "metadata": {},
   "source": [
    "### Call API"
   ]
  },
  {
   "cell_type": "code",
   "execution_count": 166,
   "metadata": {},
   "outputs": [],
   "source": [
    "results = {}\n",
    "for album in album_ids:\n",
    "    if album:\n",
    "        result = sp.album_tracks(album)\n",
    "        results[album] = result\n",
    "    else:\n",
    "        results[album] = None"
   ]
  },
  {
   "cell_type": "markdown",
   "metadata": {},
   "source": [
    "### Parse Results"
   ]
  },
  {
   "cell_type": "code",
   "execution_count": 214,
   "metadata": {},
   "outputs": [],
   "source": [
    "track_ids = []\n",
    "track_titles = []\n",
    "track_album_ids = []\n",
    "track_durations = []\n",
    "track_numbers = []\n",
    "track_disc_numbers = []\n",
    "for album_id, value in results.items():\n",
    "    if value:\n",
    "        tracks = value[\"items\"]\n",
    "        for track in tracks:\n",
    "            track_ids.append(track[\"id\"])\n",
    "            track_titles.append(track[\"name\"])\n",
    "            track_album_ids.append(album_id)\n",
    "            track_durations.append(track[\"duration_ms\"])\n",
    "            track_numbers.append(track[\"track_number\"])\n",
    "            track_disc_numbers.append(track[\"disc_number\"])\n",
    "    else:\n",
    "        track_album_ids.append(album_id)\n",
    "        track_ids.append(None)\n",
    "        track_titles.append(None)\n",
    "        track_durations.append(None)\n",
    "        track_numbers.append(None)\n",
    "        track_disc_numbers.append(None)"
   ]
  },
  {
   "cell_type": "code",
   "execution_count": 215,
   "metadata": {},
   "outputs": [
    {
     "data": {
      "text/html": [
       "<div>\n",
       "<style scoped>\n",
       "    .dataframe tbody tr th:only-of-type {\n",
       "        vertical-align: middle;\n",
       "    }\n",
       "\n",
       "    .dataframe tbody tr th {\n",
       "        vertical-align: top;\n",
       "    }\n",
       "\n",
       "    .dataframe thead th {\n",
       "        text-align: right;\n",
       "    }\n",
       "</style>\n",
       "<table border=\"1\" class=\"dataframe\">\n",
       "  <thead>\n",
       "    <tr style=\"text-align: right;\">\n",
       "      <th></th>\n",
       "      <th>track_id</th>\n",
       "      <th>track_number</th>\n",
       "      <th>track_title</th>\n",
       "      <th>track_duration</th>\n",
       "      <th>track_album_id</th>\n",
       "      <th>track_disc_number</th>\n",
       "    </tr>\n",
       "  </thead>\n",
       "  <tbody>\n",
       "    <tr>\n",
       "      <th>0</th>\n",
       "      <td>5n9QFM4EiMeLGO0Mbwaqov</td>\n",
       "      <td>1.0</td>\n",
       "      <td>Everything's Different Now</td>\n",
       "      <td>236733.0</td>\n",
       "      <td>67OxSfZotEq8cCa5SCeX5r</td>\n",
       "      <td>1.0</td>\n",
       "    </tr>\n",
       "    <tr>\n",
       "      <th>1</th>\n",
       "      <td>0BKslA1XqG8HBUKBl4d7EN</td>\n",
       "      <td>2.0</td>\n",
       "      <td>Rip In Heaven</td>\n",
       "      <td>211200.0</td>\n",
       "      <td>67OxSfZotEq8cCa5SCeX5r</td>\n",
       "      <td>1.0</td>\n",
       "    </tr>\n",
       "    <tr>\n",
       "      <th>2</th>\n",
       "      <td>5G7NBdQLHc7GkehNmLG3yJ</td>\n",
       "      <td>3.0</td>\n",
       "      <td>Why Must I</td>\n",
       "      <td>221000.0</td>\n",
       "      <td>67OxSfZotEq8cCa5SCeX5r</td>\n",
       "      <td>1.0</td>\n",
       "    </tr>\n",
       "    <tr>\n",
       "      <th>3</th>\n",
       "      <td>0J6nZDgEuwXtECq8Pukn1n</td>\n",
       "      <td>4.0</td>\n",
       "      <td>J For Jules</td>\n",
       "      <td>265493.0</td>\n",
       "      <td>67OxSfZotEq8cCa5SCeX5r</td>\n",
       "      <td>1.0</td>\n",
       "    </tr>\n",
       "    <tr>\n",
       "      <th>4</th>\n",
       "      <td>3Lm7hSTabr01oav0WdSsuD</td>\n",
       "      <td>5.0</td>\n",
       "      <td>(Believed You Were) Lucky</td>\n",
       "      <td>216973.0</td>\n",
       "      <td>67OxSfZotEq8cCa5SCeX5r</td>\n",
       "      <td>1.0</td>\n",
       "    </tr>\n",
       "  </tbody>\n",
       "</table>\n",
       "</div>"
      ],
      "text/plain": [
       "                 track_id  track_number                 track_title  \\\n",
       "0  5n9QFM4EiMeLGO0Mbwaqov           1.0  Everything's Different Now   \n",
       "1  0BKslA1XqG8HBUKBl4d7EN           2.0               Rip In Heaven   \n",
       "2  5G7NBdQLHc7GkehNmLG3yJ           3.0                  Why Must I   \n",
       "3  0J6nZDgEuwXtECq8Pukn1n           4.0                 J For Jules   \n",
       "4  3Lm7hSTabr01oav0WdSsuD           5.0   (Believed You Were) Lucky   \n",
       "\n",
       "   track_duration          track_album_id  track_disc_number  \n",
       "0        236733.0  67OxSfZotEq8cCa5SCeX5r                1.0  \n",
       "1        211200.0  67OxSfZotEq8cCa5SCeX5r                1.0  \n",
       "2        221000.0  67OxSfZotEq8cCa5SCeX5r                1.0  \n",
       "3        265493.0  67OxSfZotEq8cCa5SCeX5r                1.0  \n",
       "4        216973.0  67OxSfZotEq8cCa5SCeX5r                1.0  "
      ]
     },
     "execution_count": 215,
     "metadata": {},
     "output_type": "execute_result"
    }
   ],
   "source": [
    "tracks_df = pd.DataFrame({\"track_id\" : track_ids,\n",
    "                          \"track_number\" : track_numbers,\n",
    "                          \"track_title\" : track_titles,\n",
    "                          \"track_duration\": track_durations,\n",
    "                          \"track_album_id\" : track_album_ids,\n",
    "                          \"track_disc_number\" : track_disc_numbers})\n",
    "\n",
    "tracks_df.head()"
   ]
  },
  {
   "cell_type": "markdown",
   "metadata": {},
   "source": [
    "## Collect Audio Features"
   ]
  },
  {
   "cell_type": "markdown",
   "metadata": {},
   "source": [
    "### Call API"
   ]
  },
  {
   "cell_type": "code",
   "execution_count": null,
   "metadata": {},
   "outputs": [],
   "source": [
    "results = {}\n",
    "for track in track_ids:\n",
    "    if track:\n",
    "        result = sp.audio_features(track)\n",
    "        results[track] = result\n",
    "    else:\n",
    "        results[track] = None"
   ]
  },
  {
   "cell_type": "code",
   "execution_count": 130,
   "metadata": {},
   "outputs": [],
   "source": [
    "track_danceabilities = []\n",
    "track_energies = []\n",
    "track_loudnesses = []\n",
    "track_keys = []\n",
    "track_modes = []\n",
    "track_speechinesses = []\n",
    "track_acousticnesses = []\n",
    "track_instrumentalnesses = []\n",
    "track_livenesses = []\n",
    "track_valences = []\n",
    "track_tempos = []\n",
    "track_time_signatures = []\n",
    "\n",
    "for track_id, track_features in results.items():\n",
    "    #some of them came out a list of a single dictionary, some just a dictionary, this try except corrects for this.\n",
    "    try:\n",
    "        track_features = track_features[0]\n",
    "    except:\n",
    "        pass\n",
    "    if track_features:\n",
    "        track_danceabilities.append(track_features[\"danceability\"])\n",
    "        track_energies.append(track_features[\"energy\"])\n",
    "        track_loudnesses.append(track_features[\"loudness\"])\n",
    "        track_keys.append(track_features[\"key\"])\n",
    "        track_modes.append(track_features[\"mode\"])\n",
    "        track_speechinesses.append(track_features[\"speechiness\"])\n",
    "        track_acousticnesses.append(track_features[\"acousticness\"])\n",
    "        track_instrumentalnesses.append(track_features[\"instrumentalness\"])\n",
    "        track_livenesses.append(track_features[\"liveness\"])\n",
    "        track_valences.append(track_features[\"valence\"])\n",
    "        track_tempos.append(track_features[\"tempo\"])\n",
    "        track_time_signatures.append(track_features[\"time_signature\"])\n",
    "    else:\n",
    "        track_danceabilities.append(None)\n",
    "        track_energies.append(None)\n",
    "        track_loudnesses.append(None)\n",
    "        track_keys.append(None)\n",
    "        track_modes.append(None)\n",
    "        track_speechinesses.append(None)\n",
    "        track_acousticnesses.append(None)\n",
    "        track_instrumentalnesses.append(None)\n",
    "        track_livenesses.append(None)\n",
    "        track_valences.append(None)\n",
    "        track_tempos.append(None)\n",
    "        track_time_signatures.append(None)"
   ]
  },
  {
   "cell_type": "code",
   "execution_count": 131,
   "metadata": {},
   "outputs": [],
   "source": [
    "track_features_df = pd.DataFrame({\n",
    "    \"track_id\" : track_ids,\n",
    "    \"danceability\" : track_danceabilities,\n",
    "    \"energy\" : track_energies,\n",
    "    \"key\" : track_keys,\n",
    "    \"mode\" : track_modes,\n",
    "    \"speechiness\" : track_speechinesses,\n",
    "    \"acousticness\" : track_acousticnesses,\n",
    "    \"instrumentalness\" : track_instrumentalnesses,\n",
    "    \"liveness\" : track_livenesses,\n",
    "    \"valence\" : track_valences,\n",
    "    \"tempo\" : track_tempos,\n",
    "    \"time_signature\" : track_time_signatures,\n",
    "})"
   ]
  },
  {
   "cell_type": "code",
   "execution_count": 132,
   "metadata": {},
   "outputs": [
    {
     "data": {
      "text/html": [
       "<div>\n",
       "<style scoped>\n",
       "    .dataframe tbody tr th:only-of-type {\n",
       "        vertical-align: middle;\n",
       "    }\n",
       "\n",
       "    .dataframe tbody tr th {\n",
       "        vertical-align: top;\n",
       "    }\n",
       "\n",
       "    .dataframe thead th {\n",
       "        text-align: right;\n",
       "    }\n",
       "</style>\n",
       "<table border=\"1\" class=\"dataframe\">\n",
       "  <thead>\n",
       "    <tr style=\"text-align: right;\">\n",
       "      <th></th>\n",
       "      <th>track_id</th>\n",
       "      <th>danceability</th>\n",
       "      <th>energy</th>\n",
       "      <th>key</th>\n",
       "      <th>mode</th>\n",
       "      <th>speechiness</th>\n",
       "      <th>acousticness</th>\n",
       "      <th>instrumentalness</th>\n",
       "      <th>liveness</th>\n",
       "      <th>valence</th>\n",
       "      <th>tempo</th>\n",
       "      <th>time_signature</th>\n",
       "    </tr>\n",
       "  </thead>\n",
       "  <tbody>\n",
       "    <tr>\n",
       "      <th>0</th>\n",
       "      <td>5n9QFM4EiMeLGO0Mbwaqov</td>\n",
       "      <td>0.672</td>\n",
       "      <td>0.455</td>\n",
       "      <td>10.0</td>\n",
       "      <td>1.0</td>\n",
       "      <td>0.0393</td>\n",
       "      <td>0.0693</td>\n",
       "      <td>0.000032</td>\n",
       "      <td>0.1080</td>\n",
       "      <td>0.730</td>\n",
       "      <td>123.777</td>\n",
       "      <td>4.0</td>\n",
       "    </tr>\n",
       "    <tr>\n",
       "      <th>1</th>\n",
       "      <td>0BKslA1XqG8HBUKBl4d7EN</td>\n",
       "      <td>0.612</td>\n",
       "      <td>0.615</td>\n",
       "      <td>4.0</td>\n",
       "      <td>1.0</td>\n",
       "      <td>0.0351</td>\n",
       "      <td>0.4280</td>\n",
       "      <td>0.000000</td>\n",
       "      <td>0.3470</td>\n",
       "      <td>0.815</td>\n",
       "      <td>131.809</td>\n",
       "      <td>4.0</td>\n",
       "    </tr>\n",
       "    <tr>\n",
       "      <th>2</th>\n",
       "      <td>5G7NBdQLHc7GkehNmLG3yJ</td>\n",
       "      <td>0.586</td>\n",
       "      <td>0.670</td>\n",
       "      <td>1.0</td>\n",
       "      <td>1.0</td>\n",
       "      <td>0.0268</td>\n",
       "      <td>0.2290</td>\n",
       "      <td>0.000035</td>\n",
       "      <td>0.3230</td>\n",
       "      <td>0.838</td>\n",
       "      <td>96.486</td>\n",
       "      <td>4.0</td>\n",
       "    </tr>\n",
       "    <tr>\n",
       "      <th>3</th>\n",
       "      <td>0J6nZDgEuwXtECq8Pukn1n</td>\n",
       "      <td>0.475</td>\n",
       "      <td>0.355</td>\n",
       "      <td>10.0</td>\n",
       "      <td>1.0</td>\n",
       "      <td>0.0308</td>\n",
       "      <td>0.4620</td>\n",
       "      <td>0.000001</td>\n",
       "      <td>0.1190</td>\n",
       "      <td>0.262</td>\n",
       "      <td>151.651</td>\n",
       "      <td>4.0</td>\n",
       "    </tr>\n",
       "    <tr>\n",
       "      <th>4</th>\n",
       "      <td>3Lm7hSTabr01oav0WdSsuD</td>\n",
       "      <td>0.612</td>\n",
       "      <td>0.523</td>\n",
       "      <td>5.0</td>\n",
       "      <td>1.0</td>\n",
       "      <td>0.0321</td>\n",
       "      <td>0.4480</td>\n",
       "      <td>0.000002</td>\n",
       "      <td>0.0727</td>\n",
       "      <td>0.495</td>\n",
       "      <td>124.315</td>\n",
       "      <td>4.0</td>\n",
       "    </tr>\n",
       "  </tbody>\n",
       "</table>\n",
       "</div>"
      ],
      "text/plain": [
       "                 track_id  danceability  energy   key  mode  speechiness  \\\n",
       "0  5n9QFM4EiMeLGO0Mbwaqov         0.672   0.455  10.0   1.0       0.0393   \n",
       "1  0BKslA1XqG8HBUKBl4d7EN         0.612   0.615   4.0   1.0       0.0351   \n",
       "2  5G7NBdQLHc7GkehNmLG3yJ         0.586   0.670   1.0   1.0       0.0268   \n",
       "3  0J6nZDgEuwXtECq8Pukn1n         0.475   0.355  10.0   1.0       0.0308   \n",
       "4  3Lm7hSTabr01oav0WdSsuD         0.612   0.523   5.0   1.0       0.0321   \n",
       "\n",
       "   acousticness  instrumentalness  liveness  valence    tempo  time_signature  \n",
       "0        0.0693          0.000032    0.1080    0.730  123.777             4.0  \n",
       "1        0.4280          0.000000    0.3470    0.815  131.809             4.0  \n",
       "2        0.2290          0.000035    0.3230    0.838   96.486             4.0  \n",
       "3        0.4620          0.000001    0.1190    0.262  151.651             4.0  \n",
       "4        0.4480          0.000002    0.0727    0.495  124.315             4.0  "
      ]
     },
     "execution_count": 132,
     "metadata": {},
     "output_type": "execute_result"
    }
   ],
   "source": [
    "track_features_df.head()"
   ]
  },
  {
   "cell_type": "markdown",
   "metadata": {},
   "source": [
    "## Output"
   ]
  },
  {
   "cell_type": "markdown",
   "metadata": {},
   "source": [
    "#### Raw Output"
   ]
  },
  {
   "cell_type": "code",
   "execution_count": 70,
   "metadata": {},
   "outputs": [],
   "source": [
    "artist_df.to_csv(\"../data/raw/artists.csv\",index_label=\"artist\")\n",
    "albums_df.to_csv(\"../data/raw/albums.csv\",index=False)\n",
    "tracks_df.to_csv(\"../data/raw/tracks.csv\",index=False)\n",
    "track_features_df.to_csv(\"../data/raw/track_features.csv\",index=False)"
   ]
  },
  {
   "cell_type": "markdown",
   "metadata": {},
   "source": [
    "#### Merging"
   ]
  },
  {
   "cell_type": "code",
   "execution_count": 136,
   "metadata": {},
   "outputs": [],
   "source": [
    "artist_df[\"artist\"] = artist_df.index"
   ]
  },
  {
   "cell_type": "code",
   "execution_count": 137,
   "metadata": {},
   "outputs": [],
   "source": [
    "merged_df = pd.merge(artist_df, albums_df, \"right\", left_on=\"artist_id\", right_on=\"album_artist_id\").drop(columns=\"album_artist_id\")"
   ]
  },
  {
   "cell_type": "code",
   "execution_count": 139,
   "metadata": {},
   "outputs": [],
   "source": [
    "merged_df = pd.merge(merged_df, tracks_df, \"right\", left_on=\"album_id\", right_on=\"track_album_id\").drop(columns=\"track_album_id\")"
   ]
  },
  {
   "cell_type": "code",
   "execution_count": 142,
   "metadata": {},
   "outputs": [],
   "source": [
    "merged_df = pd.merge(merged_df, track_features_df, \"right\", left_on=\"track_id\", right_on=\"track_id\")"
   ]
  },
  {
   "cell_type": "markdown",
   "metadata": {},
   "source": [
    "#### Merged Output"
   ]
  },
  {
   "cell_type": "code",
   "execution_count": 143,
   "metadata": {},
   "outputs": [
    {
     "data": {
      "text/html": [
       "<div>\n",
       "<style scoped>\n",
       "    .dataframe tbody tr th:only-of-type {\n",
       "        vertical-align: middle;\n",
       "    }\n",
       "\n",
       "    .dataframe tbody tr th {\n",
       "        vertical-align: top;\n",
       "    }\n",
       "\n",
       "    .dataframe thead th {\n",
       "        text-align: right;\n",
       "    }\n",
       "</style>\n",
       "<table border=\"1\" class=\"dataframe\">\n",
       "  <thead>\n",
       "    <tr style=\"text-align: right;\">\n",
       "      <th></th>\n",
       "      <th>artist_id</th>\n",
       "      <th>artist</th>\n",
       "      <th>album_id</th>\n",
       "      <th>album_names</th>\n",
       "      <th>track_id</th>\n",
       "      <th>track_number</th>\n",
       "      <th>track_title</th>\n",
       "      <th>track_duration</th>\n",
       "      <th>track_disc_number</th>\n",
       "      <th>danceability</th>\n",
       "      <th>energy</th>\n",
       "      <th>key</th>\n",
       "      <th>mode</th>\n",
       "      <th>speechiness</th>\n",
       "      <th>acousticness</th>\n",
       "      <th>instrumentalness</th>\n",
       "      <th>liveness</th>\n",
       "      <th>valence</th>\n",
       "      <th>tempo</th>\n",
       "      <th>time_signature</th>\n",
       "    </tr>\n",
       "  </thead>\n",
       "  <tbody>\n",
       "    <tr>\n",
       "      <th>0</th>\n",
       "      <td>1L0y9srZMyh9XUnYGv37IP</td>\n",
       "      <td>'Til Tuesday</td>\n",
       "      <td>67OxSfZotEq8cCa5SCeX5r</td>\n",
       "      <td>Everything's Different Now</td>\n",
       "      <td>5n9QFM4EiMeLGO0Mbwaqov</td>\n",
       "      <td>1.0</td>\n",
       "      <td>Everything's Different Now</td>\n",
       "      <td>236733.0</td>\n",
       "      <td>1.0</td>\n",
       "      <td>0.672</td>\n",
       "      <td>0.455</td>\n",
       "      <td>10.0</td>\n",
       "      <td>1.0</td>\n",
       "      <td>0.0393</td>\n",
       "      <td>0.0693</td>\n",
       "      <td>0.000032</td>\n",
       "      <td>0.1080</td>\n",
       "      <td>0.730</td>\n",
       "      <td>123.777</td>\n",
       "      <td>4.0</td>\n",
       "    </tr>\n",
       "    <tr>\n",
       "      <th>1</th>\n",
       "      <td>1L0y9srZMyh9XUnYGv37IP</td>\n",
       "      <td>'Til Tuesday</td>\n",
       "      <td>67OxSfZotEq8cCa5SCeX5r</td>\n",
       "      <td>Everything's Different Now</td>\n",
       "      <td>0BKslA1XqG8HBUKBl4d7EN</td>\n",
       "      <td>2.0</td>\n",
       "      <td>Rip In Heaven</td>\n",
       "      <td>211200.0</td>\n",
       "      <td>1.0</td>\n",
       "      <td>0.612</td>\n",
       "      <td>0.615</td>\n",
       "      <td>4.0</td>\n",
       "      <td>1.0</td>\n",
       "      <td>0.0351</td>\n",
       "      <td>0.4280</td>\n",
       "      <td>0.000000</td>\n",
       "      <td>0.3470</td>\n",
       "      <td>0.815</td>\n",
       "      <td>131.809</td>\n",
       "      <td>4.0</td>\n",
       "    </tr>\n",
       "    <tr>\n",
       "      <th>2</th>\n",
       "      <td>1L0y9srZMyh9XUnYGv37IP</td>\n",
       "      <td>'Til Tuesday</td>\n",
       "      <td>67OxSfZotEq8cCa5SCeX5r</td>\n",
       "      <td>Everything's Different Now</td>\n",
       "      <td>5G7NBdQLHc7GkehNmLG3yJ</td>\n",
       "      <td>3.0</td>\n",
       "      <td>Why Must I</td>\n",
       "      <td>221000.0</td>\n",
       "      <td>1.0</td>\n",
       "      <td>0.586</td>\n",
       "      <td>0.670</td>\n",
       "      <td>1.0</td>\n",
       "      <td>1.0</td>\n",
       "      <td>0.0268</td>\n",
       "      <td>0.2290</td>\n",
       "      <td>0.000035</td>\n",
       "      <td>0.3230</td>\n",
       "      <td>0.838</td>\n",
       "      <td>96.486</td>\n",
       "      <td>4.0</td>\n",
       "    </tr>\n",
       "    <tr>\n",
       "      <th>3</th>\n",
       "      <td>1L0y9srZMyh9XUnYGv37IP</td>\n",
       "      <td>'Til Tuesday</td>\n",
       "      <td>67OxSfZotEq8cCa5SCeX5r</td>\n",
       "      <td>Everything's Different Now</td>\n",
       "      <td>0J6nZDgEuwXtECq8Pukn1n</td>\n",
       "      <td>4.0</td>\n",
       "      <td>J For Jules</td>\n",
       "      <td>265493.0</td>\n",
       "      <td>1.0</td>\n",
       "      <td>0.475</td>\n",
       "      <td>0.355</td>\n",
       "      <td>10.0</td>\n",
       "      <td>1.0</td>\n",
       "      <td>0.0308</td>\n",
       "      <td>0.4620</td>\n",
       "      <td>0.000001</td>\n",
       "      <td>0.1190</td>\n",
       "      <td>0.262</td>\n",
       "      <td>151.651</td>\n",
       "      <td>4.0</td>\n",
       "    </tr>\n",
       "    <tr>\n",
       "      <th>4</th>\n",
       "      <td>1L0y9srZMyh9XUnYGv37IP</td>\n",
       "      <td>'Til Tuesday</td>\n",
       "      <td>67OxSfZotEq8cCa5SCeX5r</td>\n",
       "      <td>Everything's Different Now</td>\n",
       "      <td>3Lm7hSTabr01oav0WdSsuD</td>\n",
       "      <td>5.0</td>\n",
       "      <td>(Believed You Were) Lucky</td>\n",
       "      <td>216973.0</td>\n",
       "      <td>1.0</td>\n",
       "      <td>0.612</td>\n",
       "      <td>0.523</td>\n",
       "      <td>5.0</td>\n",
       "      <td>1.0</td>\n",
       "      <td>0.0321</td>\n",
       "      <td>0.4480</td>\n",
       "      <td>0.000002</td>\n",
       "      <td>0.0727</td>\n",
       "      <td>0.495</td>\n",
       "      <td>124.315</td>\n",
       "      <td>4.0</td>\n",
       "    </tr>\n",
       "  </tbody>\n",
       "</table>\n",
       "</div>"
      ],
      "text/plain": [
       "                artist_id        artist                album_id  \\\n",
       "0  1L0y9srZMyh9XUnYGv37IP  'Til Tuesday  67OxSfZotEq8cCa5SCeX5r   \n",
       "1  1L0y9srZMyh9XUnYGv37IP  'Til Tuesday  67OxSfZotEq8cCa5SCeX5r   \n",
       "2  1L0y9srZMyh9XUnYGv37IP  'Til Tuesday  67OxSfZotEq8cCa5SCeX5r   \n",
       "3  1L0y9srZMyh9XUnYGv37IP  'Til Tuesday  67OxSfZotEq8cCa5SCeX5r   \n",
       "4  1L0y9srZMyh9XUnYGv37IP  'Til Tuesday  67OxSfZotEq8cCa5SCeX5r   \n",
       "\n",
       "                  album_names                track_id  track_number  \\\n",
       "0  Everything's Different Now  5n9QFM4EiMeLGO0Mbwaqov           1.0   \n",
       "1  Everything's Different Now  0BKslA1XqG8HBUKBl4d7EN           2.0   \n",
       "2  Everything's Different Now  5G7NBdQLHc7GkehNmLG3yJ           3.0   \n",
       "3  Everything's Different Now  0J6nZDgEuwXtECq8Pukn1n           4.0   \n",
       "4  Everything's Different Now  3Lm7hSTabr01oav0WdSsuD           5.0   \n",
       "\n",
       "                  track_title  track_duration  track_disc_number  \\\n",
       "0  Everything's Different Now        236733.0                1.0   \n",
       "1               Rip In Heaven        211200.0                1.0   \n",
       "2                  Why Must I        221000.0                1.0   \n",
       "3                 J For Jules        265493.0                1.0   \n",
       "4   (Believed You Were) Lucky        216973.0                1.0   \n",
       "\n",
       "   danceability  energy   key  mode  speechiness  acousticness  \\\n",
       "0         0.672   0.455  10.0   1.0       0.0393        0.0693   \n",
       "1         0.612   0.615   4.0   1.0       0.0351        0.4280   \n",
       "2         0.586   0.670   1.0   1.0       0.0268        0.2290   \n",
       "3         0.475   0.355  10.0   1.0       0.0308        0.4620   \n",
       "4         0.612   0.523   5.0   1.0       0.0321        0.4480   \n",
       "\n",
       "   instrumentalness  liveness  valence    tempo  time_signature  \n",
       "0          0.000032    0.1080    0.730  123.777             4.0  \n",
       "1          0.000000    0.3470    0.815  131.809             4.0  \n",
       "2          0.000035    0.3230    0.838   96.486             4.0  \n",
       "3          0.000001    0.1190    0.262  151.651             4.0  \n",
       "4          0.000002    0.0727    0.495  124.315             4.0  "
      ]
     },
     "execution_count": 143,
     "metadata": {},
     "output_type": "execute_result"
    }
   ],
   "source": [
    "merged_df.head()"
   ]
  },
  {
   "cell_type": "code",
   "execution_count": 144,
   "metadata": {},
   "outputs": [],
   "source": [
    "merged_df.to_csv(\"../data/musicdata.csv\",index=False)"
   ]
  }
 ],
 "metadata": {
  "kernelspec": {
   "display_name": "Python 3",
   "language": "python",
   "name": "python3"
  },
  "language_info": {
   "codemirror_mode": {
    "name": "ipython",
    "version": 3
   },
   "file_extension": ".py",
   "mimetype": "text/x-python",
   "name": "python",
   "nbconvert_exporter": "python",
   "pygments_lexer": "ipython3",
   "version": "3.6.5"
  }
 },
 "nbformat": 4,
 "nbformat_minor": 2
}
